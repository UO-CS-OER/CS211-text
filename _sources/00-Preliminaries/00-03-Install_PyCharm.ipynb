{
 "cells": [
  {
   "cell_type": "markdown",
   "id": "a2ca5827",
   "metadata": {},
   "source": [
    "#  Installing PyCharm\n",
    "\n",
    "In [part one](https://uo-cs-oer.github.io/CS210-text) we\n",
    "worked with IDLE, but simple development environment that\n",
    "comes packaged with a standard Python installation.  In part\n",
    "two we will make use of a more sophisticated\n",
    "interactive development environment (IDE) to manage more\n",
    "complex projects, and in particular to make use a more\n",
    "sophisticated debugger.  \n",
    "\n",
    "In the remainder of this section, and in subsequent chapters,\n",
    "we will describe how to install and use\n",
    "[PyCharm](https://www.jetbrains.com/pycharm/).\n",
    "[Visual Studio Code](https://code.visualstudio.com/)\n",
    "(called VSCode for short) is another good choice, with similar\n",
    "capabilities. You are \n",
    "welcome to install and use VSCode instead, but our instructions will \n",
    "assume PyCharm to avoid explaining everything twice.\n",
    "\n",
    "## Obtain a license\n",
    "\n",
    "PyCharm is provided in two versions, a free \"community edition\" and\n",
    "a non-free \"professional edition\".  As a college or university student\n",
    "(high school students and teachers too!)  you can obtain a free license \n",
    "for the professional edition\n",
    "using this [student license application form](\n",
    "https://www.jetbrains.com/community/education/#students). \n",
    "You \n",
    "will need an official university email address or identification.  \n",
    "The license application typically takes a few days.\n",
    "\n",
    "You can download and install PyCharm and use it in the 30 day free trial\n",
    "while waiting for your license. \n",
    "\n",
    "## Download PyCharm\n",
    "\n",
    "You can download the appropriate version of PyCharm for your \n",
    "operating system (macOS, Windows, or Linux)\n",
    "from [this download page](https://www.jetbrains.com/pycharm/download/).\n",
    "\n",
    "Install PyCharm as you would other applications."
   ]
  }
 ],
 "metadata": {
  "jupytext": {
   "formats": "md:myst",
   "text_representation": {
    "extension": ".myst",
    "format_name": "myst",
    "format_version": 1.1,
    "jupytext_version": "1.10.3"
   }
  },
  "kernelspec": {
   "display_name": "Python 3",
   "language": "python",
   "name": "python3"
  },
  "language_info": {
   "codemirror_mode": {
    "name": "ipython",
    "version": 3
   },
   "file_extension": ".py",
   "mimetype": "text/x-python",
   "name": "python",
   "nbconvert_exporter": "python",
   "pygments_lexer": "ipython3",
   "version": "3.10.2"
  },
  "source_map": [
   13
  ]
 },
 "nbformat": 4,
 "nbformat_minor": 5
}

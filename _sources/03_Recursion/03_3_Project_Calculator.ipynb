{
 "cells": [
  {
   "cell_type": "markdown",
   "id": "b5331431",
   "metadata": {},
   "source": [
    "# Project:  A Calculator\n",
    "\n",
    "You will find starting files for\n",
    "[the calculator project](https://github.com/UO-CIS211/calculator) on \n",
    "github as usual. \n",
    "\n",
    "You will build a simple interactive calculator that uses only \n",
    "integers (not floating point numbers).  You will work primarily on a\n",
    "postfix (a.k.a. \"reverse Polish notation\", or RPN) interface that \n",
    "you can use from the command line like this: \n",
    "\n",
    "```text\n",
    "Expression (return to quit):3 5 * x =\n",
    "x = (3 * 5) => 15\n",
    "Expression (return to quit):x 2 *\n",
    "(x * 2) => 30\n",
    "Expression (return to quit):\n",
    "Bye! Thanks for the math!\n",
    "```\n",
    "\n",
    "## Learning objectives\n",
    "\n",
    "The key learning objective for this project is becoming familiar \n",
    "with the way dynamic method dispatch can be used to organize a \n",
    "recursive algorithm for a recursive data structure. (It's not as \n",
    "scary as that might sound.)\n",
    "\n",
    "You have written recursive functions before, typically with an `if` \n",
    "statement that distinguishes between the base case(s) and recursive \n",
    "case(s).   An expression will be represented by a recursive data \n",
    "structure, a tree in which _leaves_ are the base case and _internal \n",
    "nodes_ are the recursive case.  Instead of an _if_ statement \n",
    "determining whether to apply the base case or recursive case of an \n",
    "algorithm for expression evaluation, you will use dynamic \n",
    "dispatch.  You will implement the base \n",
    "case of the algorithm in the leaves of the data structure and the \n",
    "recursive case of the algorithm in the internal nodes, using the \n",
    "same method name.  When you call the method, either a base case or \n",
    "recursive case is selected automatically.\n",
    "\n",
    "Additional learning objectives include: \n",
    "\n",
    "- \"Refactoring\" redundant code from concrete subclasses into a shared \n",
    "abstract base class.\n",
    "\n",
    "- Using dynamic dispatch to tie together refactored code. \n",
    "Specifically, abstract base classes `BinOp` and `UnOp` will refer to \n",
    "methods and fields that exist only in the concrete subclasses like \n",
    "`Plus` and `Neg`.\n",
    "\n",
    "- Recursive traversal of object structures. `__str__`, `__repr__`, and \n",
    "`eval` will make recursive calls in a style that is a little different\n",
    "from recursive functions you have written before."
   ]
  }
 ],
 "metadata": {
  "jupytext": {
   "formats": "md:myst",
   "text_representation": {
    "extension": ".myst",
    "format_name": "myst",
    "format_version": 1.1,
    "jupytext_version": "1.10.3"
   }
  },
  "kernelspec": {
   "display_name": "Python 3",
   "language": "python",
   "name": "python3"
  },
  "language_info": {
   "codemirror_mode": {
    "name": "ipython",
    "version": 3
   },
   "file_extension": ".py",
   "mimetype": "text/x-python",
   "name": "python",
   "nbconvert_exporter": "python",
   "pygments_lexer": "ipython3",
   "version": "3.13.5"
  },
  "source_map": [
   13
  ]
 },
 "nbformat": 4,
 "nbformat_minor": 5
}
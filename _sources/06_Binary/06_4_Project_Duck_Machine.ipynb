{
 "cells": [
  {
   "cell_type": "markdown",
   "id": "f8525477",
   "metadata": {},
   "source": [
    "# Project: Duck Machine Simulator\n",
    "\n",
    "This week's project is the beginning of a three part \"Duck Stack\" \n",
    "series: \n",
    "- The Duck Machine CPU simulator (part 1, this week)\n",
    "- An _assembler_ for translating assembly code into the binary\n",
    "  machine code that the Duck Machine CPU executes (part 2)\n",
    "- A _compiler_ that translates a simple high-level programming \n",
    "  language, Mallard, into assembly language (part 3)\n",
    "\n",
    "Used together, these projects allow you to write a program in the \n",
    "Mallard language, translate it into machine code, and execute it on \n",
    "your Duck Machine.  \n",
    "\n",
    "Starter code and instructions for all three stages is in a single\n",
    "[github repository for the Duck Stack](\n",
    "https://github.com/UO-CIS211/duck-stack).  There is a subfolder for\n",
    "each stage (each level of the technology stack), as well as folders \n",
    "containing Mallard programs, test cases, and scripts to run the \n",
    "different parts of the Duck Machine project together (e.g., \n",
    "translating and then executing a Mallard program).\n",
    "\n",
    "## Learning objectives\n",
    "\n",
    "Primary learning objectives for this stage of the project, the Duck \n",
    "Machine CPU simulator, include\n",
    "\n",
    "- Understanding binary representation and basic operations on binary \n",
    "  numbers, including packing and unpacking binary fields. \n",
    "- Building a basic understanding of the\n",
    "[Von Neumann computer architecture](\n",
    "https://en.wikipedia.org/wiki/Von_Neumann_architecture),\n",
    "the fundamental structure of almost all modern computers.  Your \n",
    "  phone, your laptop, the university servers you connect to daily, \n",
    "  and likely your wristwatch are all based on the Von Neumann \n",
    "  architecture."
   ]
  }
 ],
 "metadata": {
  "jupytext": {
   "formats": "md:myst",
   "text_representation": {
    "extension": ".myst",
    "format_name": "myst",
    "format_version": 1.1,
    "jupytext_version": "1.10.3"
   }
  },
  "kernelspec": {
   "display_name": "Python 3",
   "language": "python",
   "name": "python3"
  },
  "language_info": {
   "codemirror_mode": {
    "name": "ipython",
    "version": 3
   },
   "file_extension": ".py",
   "mimetype": "text/x-python",
   "name": "python",
   "nbconvert_exporter": "python",
   "pygments_lexer": "ipython3",
   "version": "3.13.5"
  },
  "source_map": [
   13
  ]
 },
 "nbformat": 4,
 "nbformat_minor": 5
}
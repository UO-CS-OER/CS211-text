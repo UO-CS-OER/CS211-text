{
 "cells": [
  {
   "cell_type": "markdown",
   "id": "2b1c956b",
   "metadata": {},
   "source": [
    "# Project: A Sliding Tile Game\n",
    "\n",
    "[FiveTwelve](https://github.com/UO-CIS211/FiveTwelve)\n",
    "is a sliding tile game based on 2048, with a few changes.\n",
    "2048 was itself based on an earlier game called 1024, which was\n",
    "inspired by the more challenging sliding tile game Threes.\n",
    "\n",
    "## Learning objectives\n",
    "\n",
    "- Using subclasses and inheritance to _factor_ related behavior into \n",
    "  shared superclasses.  This is a key way object-oriented \n",
    "  programming facilitates the _DRY_ (don't repeat yourself) principle.\n",
    "- Using _notifiers_ in the Model-View-Controller (_MVC_) \n",
    "  _design pattern_ to _factor_ game logic from display and \n",
    "  interaction. Although related to the _DRY_ principle, this \n",
    "  factoring of _model_ component from _view_ component is more \n",
    "  concerned with maintainability, portability, and extensibility of \n",
    "  complex applications, by allowing modification or substitution of\n",
    "  view \n",
    "  components (display and interaction) without modifying the model \n",
    "  component (game logic and internal representations). \n",
    "\n",
    "While quite a bit of code is provided in the\n",
    "[HOWTO document](\n",
    "https://github.com/UO-CIS211/FiveTwelve/blob/master/doc/HOWTO.md),\n",
    "there is still a lot to understand and build.  Even if you have \n",
    "gotten away with building some prior projects in a single \n",
    "programming session, you will almost certainly need to spread this \n",
    "project over multiple sessions and multiple days with breaks to \n",
    "clear your brain when it gets clogged with details.  Build a little, \n",
    "test a little, debug a lot, and ask for help when you get stuck."
   ]
  }
 ],
 "metadata": {
  "jupytext": {
   "formats": "md:myst",
   "text_representation": {
    "extension": ".myst",
    "format_name": "myst",
    "format_version": 1.1,
    "jupytext_version": "1.10.3"
   }
  },
  "kernelspec": {
   "display_name": "Python 3",
   "language": "python",
   "name": "python3"
  },
  "language_info": {
   "codemirror_mode": {
    "name": "ipython",
    "version": 3
   },
   "file_extension": ".py",
   "mimetype": "text/x-python",
   "name": "python",
   "nbconvert_exporter": "python",
   "pygments_lexer": "ipython3",
   "version": "3.13.1"
  },
  "source_map": [
   13
  ]
 },
 "nbformat": 4,
 "nbformat_minor": 5
}
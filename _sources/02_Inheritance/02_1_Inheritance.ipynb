{
 "cells": [
  {
   "cell_type": "markdown",
   "id": "509c2f3b",
   "metadata": {},
   "source": [
    "# Class Hierarchies and Inheritance\n",
    "\n",
    "## Subclasses\n",
    "\n",
    "Sometimes we need a specialized version of \n",
    "a class, or multiple variations on a class. \n",
    "Rather than modifying the existing class, \n",
    "we can create a new class that *inherits* \n",
    "from the existing class. \n",
    "\n",
    "Suppose, for example, that we wanted a \n",
    "class `Square` that is like a rectangle but \n",
    "can be created from a single point and a size. \n",
    "We can specify that a `Square` is a kind of \n",
    "`Rect`:"
   ]
  },
  {
   "cell_type": "code",
   "execution_count": 1,
   "id": "800f0fde",
   "metadata": {
    "tags": [
     "hide-cell"
    ]
   },
   "outputs": [],
   "source": [
    "# Classes Point and Rect are repeated \n",
    "# from the previous chapter so we can\n",
    "# build on them.  Point has a method \n",
    "# \"dist\" that we use for area of triangles. \n",
    "\n",
    "from numbers import Number\n",
    "from math import sqrt\n",
    "\n",
    "class Point:\n",
    "    \"\"\"An (x,y) coordinate pair\"\"\"\n",
    "    def __init__(self, x: Number, y: Number):\n",
    "        self.x = x\n",
    "        self.y = y\n",
    "\n",
    "    def __add__(self, d: \"Point\") -> \"Point\":\n",
    "        \"\"\"Point(x, y) + Point(\"\"\"\n",
    "        x = self.x + d.x\n",
    "        y = self.y + d.y\n",
    "        return Point(x,y)\n",
    "        \n",
    "    def move_to(self, new_x, new_y):\n",
    "        \"\"\"Change the coordinates of this Point\"\"\"\n",
    "        self.x = new_x\n",
    "        self.y = new_y\n",
    "        \n",
    "    def dist(self, other: \"Point\") -> Number: \n",
    "        \"\"\"Euclidean distance\"\"\"\n",
    "        dx = self.x - other.x\n",
    "        dy = self.y - other.y\n",
    "        return sqrt(dx*dx + dy*dy)       \n",
    "        \n",
    "    def __str__(self) -> str:\n",
    "        \"\"\"Looks like (x, y)\"\"\"\n",
    "        return f\"({self.x}, {self.y})\"\n",
    "      \n",
    "    def __repr__(self) -> str:\n",
    "        \"\"\"Looks like Point(x, y)\"\"\"\n",
    "        return f\"Point({self.x}, {self.y})\"\n",
    "\n",
    "\n",
    "class Rect:\n",
    "    \"\"\"Rectangle from lower left corner to upper right.\"\"\"\n",
    "    def __init__(self, xy_min: Point, xy_max: Point):\n",
    "        self.min_pt = xy_min\n",
    "        self.max_pt = xy_max\n",
    "    \n",
    "    def area(self) -> Number:\n",
    "        \"\"\"Area is height * width\"\"\"\n",
    "        height = self.max_pt.x - self.min_pt.x\n",
    "        width = self.max_pt.y - self.min_pt.y\n",
    "        return height * width\n",
    "\n",
    "    def translate(self, delta: Point) -> \"Rect\":\n",
    "        \"\"\"New rectangle offset from this one by delta as movement vector\"\"\"\n",
    "        return Rect(self.min_pt + delta, self.max_pt + delta)\n",
    "\n",
    "    def __repr__(self) -> str:\n",
    "        return f\"Rect({repr(self.min_pt)}, {repr(self.max_pt)}\"\n",
    "\n",
    "    def __str__(self) -> str:\n",
    "        return f\"Rect({str(self.min_pt)}, {str(self.max_pt)})\""
   ]
  },
  {
   "cell_type": "code",
   "execution_count": 2,
   "id": "908160bd",
   "metadata": {},
   "outputs": [],
   "source": [
    "class Square(Rect):\n",
    "    \"\"\"A Rectangle with equal length sides\"\"\"\n",
    "    \n",
    "    def __init__(self, anchor: Point, size: Number):\n",
    "        self.min_pt = anchor\n",
    "        self.max_pt = self.min_pt + Point(size, size)\n",
    "        self.size = size"
   ]
  },
  {
   "cell_type": "markdown",
   "id": "5d0fc6d1",
   "metadata": {},
   "source": [
    "`Square` objects have the `min_pt` and `max_pt` \n",
    "*instance variables* of `Rect`, plus a new \n",
    "instance variable `size`.  \n",
    "All the methods of `Rect` are also available for \n",
    "`Square`, including the *magic* methods like `__str__`."
   ]
  },
  {
   "cell_type": "code",
   "execution_count": 3,
   "id": "0c7abd12",
   "metadata": {},
   "outputs": [
    {
     "name": "stdout",
     "output_type": "stream",
     "text": [
      "Rect((3, 5), (8, 10))\n"
     ]
    }
   ],
   "source": [
    "p1 = Point(3, 5)\n",
    "sq = Square(p1, 5)\n",
    "print(sq)"
   ]
  },
  {
   "cell_type": "markdown",
   "id": "de96149f",
   "metadata": {},
   "source": [
    "## Overriding\n",
    "\n",
    "Maybe we don't want `print(sq)` to print a \n",
    "string beginning with `Rect`.  Maybe we want \n",
    "`Square` to have its own `__str__` method."
   ]
  },
  {
   "cell_type": "code",
   "execution_count": 4,
   "id": "92a6f415",
   "metadata": {},
   "outputs": [],
   "source": [
    "class Square(Rect):\n",
    "    \"\"\"A Rectangle with equal length sides\"\"\"\n",
    "    \n",
    "    def __init__(self, anchor: Point, size: Number):\n",
    "        self.min_pt = anchor\n",
    "        self.max_pt = self.min_pt + Point(size, size)\n",
    "        self.size = size\n",
    "\n",
    "    def __str__(self) -> str:\n",
    "        return f\"Square({str(self.min_pt)}, {self.size})\""
   ]
  },
  {
   "cell_type": "markdown",
   "id": "688c88d6",
   "metadata": {},
   "source": [
    "The new `__str__` method of `Square` *overrides* the \n",
    "`__str__` method of the `Rect` Now the same code as above"
   ]
  },
  {
   "cell_type": "code",
   "execution_count": 5,
   "id": "96e4a7ce",
   "metadata": {},
   "outputs": [
    {
     "name": "stdout",
     "output_type": "stream",
     "text": [
      "Square((3, 5), 5)\n",
      "Rect((5, 7), (10, 12))\n"
     ]
    }
   ],
   "source": [
    "p1 = Point(3, 5)\n",
    "sq = Square(p1, 5)\n",
    "print(sq)\n",
    "s2 = sq.translate(Point(2,2))\n",
    "print(s2)"
   ]
  },
  {
   "cell_type": "markdown",
   "id": "802cfa3c",
   "metadata": {},
   "source": [
    "The first `print` command uses the new \n",
    "`__str__` method. \n",
    "The `translate` method is still inherited from \n",
    "`Rect`, and still returns a `Rect` object rather \n",
    "than a `Square`, so the second `print` command \n",
    "is printing that `Rect` object.\n",
    "\n",
    "We can also add \n",
    "new methods that are not present in `Rect`.  For example, we \n",
    "might simply want to add a method that returns the length \n",
    "of a side:"
   ]
  },
  {
   "cell_type": "code",
   "execution_count": 6,
   "id": "0430c04d",
   "metadata": {
    "tags": [
     "hide-cell"
    ]
   },
   "outputs": [],
   "source": [
    "class Square(Rect):\n",
    "    \"\"\"A Rectangle with equal length sides\"\"\"\n",
    "    \n",
    "    def __init__(self, anchor: Point, size: Number):\n",
    "        self.min_pt = anchor\n",
    "        self.max_pt = self.min_pt + Point(size, size)\n",
    "        self.size = size\n",
    "\n",
    "    def __str__(self) -> str:\n",
    "        return f\"Square({str(self.min_pt)}, {self.size})\"\n",
    "        \n",
    "    def side(self) -> Number:\n",
    "        return self.size"
   ]
  },
  {
   "cell_type": "markdown",
   "id": "18cf7aca",
   "metadata": {},
   "source": [
    "```python\n",
    "    ## Within class Square as above\n",
    "    def side(self) -> Number:\n",
    "        return self.size\n",
    "```\n",
    "\n",
    "A method that is defined only in the `Square` subclass \n",
    "can of course use instance variables that are likewise \n",
    "only in that subclass.   Now we can write"
   ]
  },
  {
   "cell_type": "code",
   "execution_count": 7,
   "id": "eb25e5a8",
   "metadata": {},
   "outputs": [
    {
     "data": {
      "text/plain": [
       "2"
      ]
     },
     "execution_count": 7,
     "metadata": {},
     "output_type": "execute_result"
    }
   ],
   "source": [
    "sq = Square(Point(2,2), 2)\n",
    "sq.side()"
   ]
  },
  {
   "cell_type": "markdown",
   "id": "e7d31c66",
   "metadata": {},
   "source": [
    "We get the expected result, `2`.  However, if \n",
    "we attempt to call `side` on a `Rect` object\n",
    "that is not a `Square` object, we will get an error\n",
    "message."
   ]
  },
  {
   "cell_type": "code",
   "execution_count": 8,
   "id": "189c8118",
   "metadata": {
    "tags": [
     "raises-exception"
    ]
   },
   "outputs": [
    {
     "ename": "AttributeError",
     "evalue": "'Rect' object has no attribute 'side'",
     "output_type": "error",
     "traceback": [
      "\u001b[0;31m---------------------------------------------------------------------------\u001b[0m",
      "\u001b[0;31mAttributeError\u001b[0m                            Traceback (most recent call last)",
      "Cell \u001b[0;32mIn[8], line 2\u001b[0m\n\u001b[1;32m      1\u001b[0m r \u001b[38;5;241m=\u001b[39m Rect(Point(\u001b[38;5;241m2\u001b[39m,\u001b[38;5;241m2\u001b[39m), Point(\u001b[38;5;241m4\u001b[39m,\u001b[38;5;241m4\u001b[39m))\n\u001b[0;32m----> 2\u001b[0m \u001b[43mr\u001b[49m\u001b[38;5;241;43m.\u001b[39;49m\u001b[43mside\u001b[49m()\n",
      "\u001b[0;31mAttributeError\u001b[0m: 'Rect' object has no attribute 'side'"
     ]
    }
   ],
   "source": [
    "r = Rect(Point(2,2), Point(4,4))\n",
    "r.side()"
   ]
  },
  {
   "cell_type": "markdown",
   "id": "ef8effed",
   "metadata": {},
   "source": [
    "The Python debugger refers to both instance variables and methods \n",
    "as *attributes*.  In this case it looked for the \n",
    "class of `r` and found it was a `Rect`, and it looked \n",
    "in class `Rect` for method `side` and did not find it. \n",
    "\n",
    "\n",
    "The inherited `translate` method still returns a `Rect`.\n",
    " It seems more reasonable for \n",
    "translation of a `Square` to give us a `Square`, \n",
    "so we can again *override* the \n",
    " inherited method with a more specialized version:"
   ]
  },
  {
   "cell_type": "code",
   "execution_count": 9,
   "id": "c809fb5b",
   "metadata": {
    "tags": [
     "hide-cell"
    ]
   },
   "outputs": [],
   "source": [
    "class Square(Rect):\n",
    "    \"\"\"A Rectangle with equal length sides\"\"\"\n",
    "    \n",
    "    def __init__(self, anchor: Point, size: Number):\n",
    "        self.min_pt = anchor\n",
    "        self.max_pt = self.min_pt + Point(size, size)\n",
    "        self.size = size\n",
    "\n",
    "    def __str__(self) -> str:\n",
    "        return f\"Square({str(self.min_pt)}, {self.size})\"\n",
    "        \n",
    "    def side(self) -> Number:\n",
    "        return self.size\n",
    "    \n",
    "    def translate(self, delta: Point) -> \"Square\":\n",
    "        return Square(self.min_pt + delta, self.size)"
   ]
  },
  {
   "cell_type": "markdown",
   "id": "90f31c30",
   "metadata": {},
   "source": [
    "```python3\n",
    "    def translate(self, delta: Point) -> \"Square\":\n",
    "        return Square(self.min_pt + delta, self.size)\n",
    "```\n",
    "\n",
    "Now translate produces a `Square` object, with the printed\n",
    "representation we want."
   ]
  },
  {
   "cell_type": "code",
   "execution_count": 10,
   "id": "3bbe3ea8",
   "metadata": {},
   "outputs": [
    {
     "name": "stdout",
     "output_type": "stream",
     "text": [
      "Square((3, 5), 5)\n",
      "Square((5, 7), 5)\n"
     ]
    }
   ],
   "source": [
    "p1 = Point(3, 5)\n",
    "sq = Square(p1, 5)\n",
    "print(sq)\n",
    "s2 = sq.translate(Point(2,2))\n",
    "print(s2)"
   ]
  },
  {
   "cell_type": "markdown",
   "id": "ab1c13cb",
   "metadata": {},
   "source": [
    "## The Liskov Substitution Principle\n",
    "\n",
    "Can we override methods any way \n",
    "we like?  For example, could we have have written \n",
    "the following definition of `translate` for \n",
    "class `Square`?\n",
    "\n",
    "```python3\n",
    "    def translate(self, dx: Number, dy: Number) -> \"Square\":\n",
    "        delta = Point(dx, dy)\n",
    "        return Square(self.min_pt + delta, self.size)\n",
    "```\n",
    "\n",
    "Python would allow this, but it is a _very bad idea_. \n",
    "In Python, as in many object-oriented languages, \n",
    "we expect a *subclass* to also act as a *subtype*. \n",
    "\n",
    "What does it mean for one class to be a subtype \n",
    "of another?  The widely accepted answer is that \n",
    "a subtype may safely be used wherever its \n",
    "supertype could be used.  For example, if `Square`\n",
    "is not only a subclass of `Rect`, but also a \n",
    "subtype of `Rect`, then any code that would behave \n",
    "correctly with a value `v` that is a `Rect` should \n",
    "also act correctly if the value of `v` is a `Square`. \n",
    "We could say \"A `Square`s is a `Rect`s\", and in \n",
    "fact some programmers call subtyping the *is-a* relation. \n",
    "This is also called the *Liskov substitution principle*, \n",
    "for Nancy Liskov of M.I.T. who proposed it. \n",
    "\n",
    "For a `Square` to be usable everywhere a `Rect` is usable, \n",
    "each method overridden in `Square` must be compatible with \n",
    "the corresponding method in `Rect`.  \n",
    "What does it mean for the `translate` of `Square` to be \n",
    "compatible with the `translate` of `Rect`?  Of course it \n",
    "should have the same number of arguments.  In addition, the \n",
    "arguments and return value should be compatible.  An argument \n",
    "in the overriding method is compatible if it accepts everything\n",
    "that the inherited method accepts, so it should be \n",
    "equal or a supertype of the argument type of the inherited \n",
    "method.  The result type should be what we would expect \n",
    "from the inherited method, so it should be equal or a \n",
    "subtype of the return type of the inherited method. \n",
    "\n",
    "![Compatible argument and return types](img/covariance-contravariance.png)\n",
    "\n",
    "\n",
    "## Abstract classes\n",
    "\n",
    "So far we have used inheritance as a way to avoid \n",
    "repetitive code by reusing (inheriting) methods \n",
    "in subclasses.  Considering the Liskov substitution \n",
    "principle and the way subclasses are treated as \n",
    "subtypes, you might wonder whether sometimes it \n",
    "might be useful to create a superclass and a set \n",
    "of subclasses even though there is little or nothing\n",
    "to inherit.  Our purpose might be the subtype relation, \n",
    "knowing (and documenting) that any of the subtypes can \n",
    "be used where the supertype is expected. \n",
    "This is not only possible but common. \n",
    "\n",
    "We have a simple class `Rect` and a subclass \n",
    "`Square`, and although we overrode many of the \n",
    "`Rect` methods in `Square`, \n",
    "at least one method (`area`) is inherited.  Suppose \n",
    "now we also want a class `Triangle`.  A triangle is not\n",
    "defined by two corners, and its area is not computed \n",
    "in the same way as the area of a `Rect`.  And yet \n",
    "we can write an `area` method, with a completely different \n",
    "implementation, that is called in the same way and \n",
    "has the same meaning.  It is easy to imagine a loop \n",
    "that sums up the area of a mixed lists of triangles and \n",
    "rectangles.   It is useful for a class \n",
    " `Triangle` and class `Rect` to be subclasses of a \n",
    "single superclass `Shape`, even though there may be \n",
    "nothing that `Triangle` and `Rect` can inherit. \n",
    " \n",
    " What would this class `Shape` look like?  What could \n",
    "we do with an object of class `Shape`, if it makes \n",
    "sense at all to create `Shape` objects?  In fact, even \n",
    "though we want the *class* `Shape` to describe \n",
    "what `Rect`s and `Triangle`s have in common, we probably \n",
    "don't want to even make it possible to create a \n",
    "`Shape` object directly;  all `Shape` objects should \n",
    "be `Rect`s (including `Square`s) or `Triangle`s. \n",
    "\n",
    "A class like `Shape` that organizes a set of subclasses \n",
    "but which can never be instantiated to create objects \n",
    "by itself is called an *abstract base class*.  We \n",
    "might define shape as an abstract base class like this:"
   ]
  },
  {
   "cell_type": "code",
   "execution_count": 11,
   "id": "8b51ee04",
   "metadata": {},
   "outputs": [],
   "source": [
    "class Shape:\n",
    "    \"\"\"An abstract base class that encompasses different concrete\n",
    "    classes with common behavior but different representations.\n",
    "    \"\"\"\n",
    "\n",
    "    def __init__(self):\n",
    "        \"\"\"There are *no* objects of an abstract class.  It's a\n",
    "        concept, not a set of concrete things.\n",
    "        \"\"\"\n",
    "        raise NotImplementedError(\"Do not instantiate 'Shape'; it is abstract\")\n",
    "\n",
    "    # Abstract methods are mostly to define signatures\n",
    "    # (headers) of methods for the concrete subclasses\n",
    "\n",
    "    def area(self) -> Number:\n",
    "        raise NotImplementedError(f\"Class {self.__class__} didn't define 'Area'\")\n",
    "\n",
    "    def translate(self, delta: Point) -> \"Shape\":\n",
    "        \"\"\"New shape offset from this one by delta as movement vector\"\"\"\n",
    "        raise NotImplementedError(f\"Class {self.__class__} didn't define 'translate'\")"
   ]
  },
  {
   "cell_type": "markdown",
   "id": "4f8c4b38",
   "metadata": {},
   "source": [
    "Note that this class is booby-trapped to crash if we \n",
    "make the mistake of trying to create a `Shape` object\n",
    "directly.  In addition, the methods `area` and `translate` \n",
    "are also not intended to be inherited.  If they are \n",
    "inherited (presumably because we forgot to define an \n",
    "overriding method in a subclass, or perhaps  because \n",
    "we misspelled it), they will crash with a diagnostic \n",
    "message! \n",
    "\n",
    "Now that we have the abstract base class `Shape`, we \n",
    "want to make `Rect` a subclass of it.  Since we're \n",
    "overriding all the methods, we can simply change \n",
    "the header of the class: \n",
    "\n",
    "\n",
    "```python3\n",
    "class Rect(Shape):\n",
    "```"
   ]
  },
  {
   "cell_type": "code",
   "execution_count": 12,
   "id": "d15ba160",
   "metadata": {
    "tags": [
     "hide-cell"
    ]
   },
   "outputs": [],
   "source": [
    "class Rect(Shape):\n",
    "    \"\"\"Rectangle from lower left corner to upper right.\"\"\"\n",
    "    def __init__(self, xy_min: Point, xy_max: Point):\n",
    "        self.min_pt = xy_min\n",
    "        self.max_pt = xy_max\n",
    "    \n",
    "    def area(self) -> Number:\n",
    "        \"\"\"Area is height * width\"\"\"\n",
    "        height = self.max_pt.x - self.min_pt.x\n",
    "        width = self.max_pt.y - self.min_pt.y\n",
    "        return height * width\n",
    "\n",
    "    def translate(self, delta: Point) -> \"Rect\":\n",
    "        \"\"\"New rectangle offset from this one by delta as movement vector\"\"\"\n",
    "        return Rect(self.min_pt + delta, self.max_pt + delta)\n",
    "\n",
    "    def __repr__(self) -> str:\n",
    "        return f\"Rect({repr(self.min_pt)}, {repr(self.max_pt)}\"\n",
    "\n",
    "    def __str__(self) -> str:\n",
    "        return f\"Rect({str(self.min_pt)}, {str(self.max_pt)})\""
   ]
  },
  {
   "cell_type": "markdown",
   "id": "3c8a2297",
   "metadata": {},
   "source": [
    "We will give a similar header to `Triangle`, and again \n",
    "override all the methods declared in `Shape`:"
   ]
  },
  {
   "cell_type": "code",
   "execution_count": 13,
   "id": "e0c39cf0",
   "metadata": {},
   "outputs": [],
   "source": [
    "class Triangle(Shape):\n",
    "    \"\"\"A triangle is defined by three points.\"\"\"\n",
    "\n",
    "    def __init__(self, p1: Point, p2: Point, p3: Point):\n",
    "        self.p1 = p1\n",
    "        self.p2 = p2\n",
    "        self.p3 = p3\n",
    "\n",
    "    def translate(self, delta: Point) -> \"Triangle\":\n",
    "        return Triangle(self.p1 + delta, self.p2 + delta, self.p3 + delta)\n",
    "\n",
    "    def __str__(self) -> str:\n",
    "        return f\"Triangle({self.p1}, {self.p2}, {self.p3})\"\n",
    "\n",
    "    def __repr__(self) -> str:\n",
    "        return f\"Triangle({repr(self.p1)}, {repr(self.p2)}, {repr(self.p3)})\"\n",
    "\n",
    "    def area(self) -> Number:\n",
    "        \"\"\"Area of triangle is (1/2) * base * height\"\"\"\n",
    "        # To determine height, we drop a perpendicular from one point\n",
    "        # to the opposite side, then measure it.  Any side will do;\n",
    "        # we'll take p1 as the point and (p2,p3) as the side.\n",
    "        ix, iy = normal_intersect(self.p2.x, self.p2.y,\n",
    "                                  self.p3.x, self.p3.y,\n",
    "                                  self.p1.x, self.p1.y)\n",
    "        intercept = Point(ix, iy)\n",
    "        base = self.p2.dist(self.p3)\n",
    "        height = self.p1.dist(intercept)\n",
    "        return 0.5 * base * height"
   ]
  },
  {
   "cell_type": "markdown",
   "id": "3bd13684",
   "metadata": {},
   "source": [
    "The area calculation for a triangle is a bit more involved \n",
    "than the calculation for a rectangle, but fortunately \n",
    "it was easy to reuse code for dropping a perpendicular that \n",
    "I developed for a different project, plus a `dist` (distance) method \n",
    "in the `Point` class."
   ]
  },
  {
   "cell_type": "code",
   "execution_count": 14,
   "id": "329e0ee7",
   "metadata": {
    "tags": [
     "hide-cell"
    ]
   },
   "outputs": [],
   "source": [
    "def normal_intersect(p1_x: Number, p1_y: Number, \n",
    "                     p2_x: Number, p2_y: Number,\n",
    "                     px: Number, py: Number\n",
    "                     ) -> tuple[Number, Number]:\n",
    "    \"\"\"Intersection of seg from p1 to p2 with normal dropped from p\"\"\"\n",
    "\n",
    "    # Special cases: slope or normal slope is undefined\n",
    "    # for vertical or horizontal lines, but the intersections\n",
    "    # are trivial for those cases\n",
    "    if p2_x == p1_x:\n",
    "        return p1_x, py\n",
    "    elif p2_y == p1_y:\n",
    "        return px, p1_y\n",
    "\n",
    "    # The slope of the segment, and of a normal ray\n",
    "    seg_slope = (p2_y - p1_y) / (p2_x - p1_x)\n",
    "    normal_slope = 0 - (1.0 / seg_slope)\n",
    "\n",
    "    # For y=mx+b form, we need to solve for b (y intercept)\n",
    "    seg_b = p1_y - seg_slope * p1_x\n",
    "    normal_b = py - normal_slope * px\n",
    "\n",
    "    # Combining and subtracting the two line equations to solve for intersect\n",
    "    x_intersect = (seg_b - normal_b) / (normal_slope - seg_slope)\n",
    "    y_intersect = seg_slope * x_intersect + seg_b\n",
    "    # Colinear points are ok!\n",
    "\n",
    "    return (x_intersect, y_intersect)"
   ]
  },
  {
   "cell_type": "markdown",
   "id": "ddb1e019",
   "metadata": {},
   "source": [
    "Although `Rect` and `Triangle` do not share any implementation at \n",
    "all, they both follow the contract defined by the abstract class \n",
    "`Shape`.   We can loop through a list of `Shape` objects including\n",
    "both `Rect` and `Triangle` objects and call the `area` method of \n",
    "each one, letting Python call the `Triangle.area` method for \n",
    "`Triangle`s and the `Rect.area` method for `Rect`s."
   ]
  },
  {
   "cell_type": "code",
   "execution_count": 15,
   "id": "01a9b8d5",
   "metadata": {},
   "outputs": [
    {
     "name": "stdout",
     "output_type": "stream",
     "text": [
      "1\n",
      "9\n",
      "8.000000000000002\n"
     ]
    }
   ],
   "source": [
    "shapes: list[Shape] = [ \n",
    "            Rect(Point(2,2), Point(3,3)), \n",
    "            Square(Point(0,0), 3), \n",
    "            Triangle(Point(0,0), Point(0, 4), Point(4,0)) ]\n",
    "           \n",
    "for shape in shapes: \n",
    "    print(shape.area())"
   ]
  },
  {
   "cell_type": "markdown",
   "id": "117de33c",
   "metadata": {},
   "source": [
    "This is a kind of _polymorphism_, _poly_ meaning \"many\" \n",
    "or \"multiple\" and _morph_ meaning \"form\".  Our `Shape` objects come \n",
    "in multiple forms, but we can mix them together in a list and call\n",
    "`shape` on each of them, treating `shape` as a _polymorphic_ \n",
    "function, provided our classes obey the Liskov substitution principle.\n",
    "\n",
    "### Check your understanding\n",
    "\n",
    "One of these relations is not like the others: \n",
    "\n",
    "* `Square` is a subclass of `Rect`\n",
    "*  A `Square` is a kind of `Rect`\n",
    "*  A `Rect` contains `Point`s\n",
    "\n",
    "\n",
    "### Class Diagrams \n",
    "\n",
    "If we want to communicate the relation between \n",
    "the *superclass* `Rect` and *subclass* `Square`, \n",
    "there is a more-or-less standard diagrammatic \n",
    "notation called a *class diagram* that indicates\n",
    "the relation with an arrow: \n",
    "\n",
    "![Class diagram: Square is a subclass of Rect](img/class_diagram_square.svg)\n",
    "\n",
    "The arrow expresses the \"is-a\" relation (a square *is-a* rectangle). \n",
    "Sometimes it is also useful to express the \"has-a\" relation, \n",
    "for example showing that one or more `Point` objects are \n",
    "instance variables of a `Rect` object. \n",
    "\n",
    "![Class diagram with has-a: Rect has-a Point](img/class_diagram_square_point.svg)\n",
    "\n",
    "A class diagram to express the relation \n",
    "among `Rect`, `Square`, and `Point` may \n",
    "not be very useful, as the structure is \n",
    "simple and apparent from the code.  \n",
    "Diagrams may be useful when the relations \n",
    "are more complex, particularly when it becomes \n",
    "difficult to describe them precisely, \n",
    "concisely, and clearly in prose.  A diagram \n",
    "expressing showing relations among `Shape`, \n",
    "`Rect`, and `Square` is slightly more \n",
    "useful: \n",
    "\n",
    "![Class diagram with an abstract base class](img/class_diagram_triangle.svg)\n",
    "\n",
    "# Inheriting from built-ins \n",
    "\n",
    "All the built-in types of Python, like `str`\n",
    "and `dict` and even `int`, are classes.  Just \n",
    "as we were able to extend or *inherit from* \n",
    "the class `Rect`, it is occasionally useful to \n",
    "inherit from one of the built-in classes.  \n",
    "\n",
    "Suppose we want to build a class to represent lists \n",
    "of shapes.   One approach would be to *wrap* a list, \n",
    "i.e., keeping a list of `Shape` as an instance variable in \n",
    "the new class:"
   ]
  },
  {
   "cell_type": "code",
   "execution_count": 16,
   "id": "dfdb029e",
   "metadata": {},
   "outputs": [],
   "source": [
    "class ShapeList:\n",
    "    \"\"\"A collection of Shapes.\"\"\"\n",
    "\n",
    "    def __init__(self):\n",
    "        self.elements = []\n",
    "\n",
    "    def area(self) -> Number:\n",
    "        total = 0\n",
    "        for el in self.elements:\n",
    "            total += el.area()\n",
    "        return total\n",
    "\n",
    "    def append(self, item: Rect):\n",
    "        \"\"\"Delegate to elements\"\"\"\n",
    "        self.elements.append(item)\n",
    "\n",
    "    def __str__(self) -> str:\n",
    "        \"\"\"Delegate to elements\"\"\"\n",
    "        return str(self.elements)"
   ]
  },
  {
   "cell_type": "markdown",
   "id": "245c28f3",
   "metadata": {},
   "source": [
    "This is ok as far as it goes ... it allows us to append \n",
    "`Shape` objects to the list, to print the list with the \n",
    "`str` function, and to get the total area of shapes in the \n",
    "list.  But then perhaps we want to use the `len` function \n",
    "to see how many shapes are on the list, so we'll need to\n",
    "write a method to delegate `len`.  Next we might want to \n",
    "use the `in` operation to check whether a shape is in the list.\n",
    "If we want *all* the methods of `list`, we will end up \n",
    "with a rather large class definition just to delegate each \n",
    "method to the corresponding method of `list`. \n",
    "\n",
    "Wrapping is fine if we want just a few methods of `list`, \n",
    "especially if we specifically do *not* want some of the \n",
    "`list` methods to be available for `ShapeList`.  But if we \n",
    "want all of them, it is simpler (and probably less error prone)\n",
    "to just inherit them from `list`:"
   ]
  },
  {
   "cell_type": "code",
   "execution_count": 17,
   "id": "40896bb0",
   "metadata": {},
   "outputs": [],
   "source": [
    "class ShapeList(list):\n",
    "    \"\"\"A collection of Shapes.\"\"\"\n",
    "\n",
    "    def area(self) -> Number:\n",
    "        total = 0\n",
    "        for el in self:\n",
    "            total += el.area()\n",
    "        return total"
   ]
  },
  {
   "cell_type": "markdown",
   "id": "597b6cfd",
   "metadata": {},
   "source": [
    "We only have to define the added method `area`; all the \n",
    "rest of the methods `list` can be inherited.  \n",
    "Note especially that we were able to write `for el in self`, \n",
    "using the looping methods of the built-in `list` class. \n",
    "Now we can write:"
   ]
  },
  {
   "cell_type": "code",
   "execution_count": 18,
   "id": "4d85b797",
   "metadata": {},
   "outputs": [
    {
     "name": "stdout",
     "output_type": "stream",
     "text": [
      "ShapeList [Rect(Point(3, 3), Point(5, 7), Rect(Point(2, 2), Point(4, 4), Triangle(Point(0, 0), Point(0, 1), Point(2, 0))]\n",
      "Combined area is 13.0, expecting 13\n"
     ]
    }
   ],
   "source": [
    "li = ShapeList()\n",
    "li.append(Rect(Point(3, 3), Point(5, 7)))  # 2x4 = 8\n",
    "li.append(Square(Point(2, 2), 2))           # 2x2 = 4\n",
    "li.append(Triangle(Point(0, 0), Point(0, 1), Point(2, 0)))  # Area 1\n",
    "print(f\"ShapeList {li}\")\n",
    "print(f\"Combined area is {li.area()}, expecting 13\")"
   ]
  },
  {
   "cell_type": "markdown",
   "id": "eed15d80",
   "metadata": {},
   "source": [
    "## Test your understanding\n",
    "\n",
    "We might choose to extend a built-in class like \n",
    "`list` or `dict` because \n",
    "\n",
    "* We want to change the way all lists work\n",
    "* We want a class with all the methods of the \n",
    "  built-in class, plus one or more added methods \n",
    "* Instance variables can't hold values from the \n",
    "  built-in classes"
   ]
  }
 ],
 "metadata": {
  "jupytext": {
   "formats": "md:myst",
   "text_representation": {
    "extension": ".myst",
    "format_name": "myst",
    "format_version": 1.1,
    "jupytext_version": "1.10.3"
   }
  },
  "kernelspec": {
   "display_name": "Python 3",
   "language": "python",
   "name": "python3"
  },
  "language_info": {
   "codemirror_mode": {
    "name": "ipython",
    "version": 3
   },
   "file_extension": ".py",
   "mimetype": "text/x-python",
   "name": "python",
   "nbconvert_exporter": "python",
   "pygments_lexer": "ipython3",
   "version": "3.13.1"
  },
  "source_map": [
   13,
   31,
   96,
   105,
   113,
   117,
   125,
   137,
   142,
   148,
   162,
   177,
   189,
   192,
   199,
   203,
   217,
   235,
   246,
   252,
   345,
   366,
   387,
   410,
   415,
   445,
   453,
   484,
   493,
   501,
   562,
   582,
   601,
   610,
   618,
   625
  ]
 },
 "nbformat": 4,
 "nbformat_minor": 5
}
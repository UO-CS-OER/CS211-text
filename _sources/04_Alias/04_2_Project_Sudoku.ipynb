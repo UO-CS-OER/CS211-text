{
 "cells": [
  {
   "cell_type": "markdown",
   "id": "c1150446",
   "metadata": {},
   "source": [
    "# Project: Sudoku Solver (part 1)\n",
    "\n",
    "You will find starter code and instructions for\n",
    "a [Sudoku solver](https://github.com/UO-CIS211/Duck_Sudoku) on \n",
    "github as usual.  \n",
    "\n",
    "Most students find this project quite challenging. Give yourself \n",
    "some time, including some time in help hours or scheduled time for \n",
    "discussion and mutual help with classmates if possible. \n",
    "\n",
    "The Sudoku project can be completed in three stages: \n",
    "- In the first stage, you will build a representation of the Sudoku \n",
    "  board, and an algorithm for checking whether the board is complete \n",
    "  and consistent (i.e., a valid solution).\n",
    "- In the second stage, you will implement two basic algorithms for \n",
    "  filling in missing tiles based on information in rows, columns, \n",
    "  and blocks.  Applying these algorithms repeatedly to _propagate_ \n",
    "  constraints is enough to solve many easy Sudoku puzzles. \n",
    "- In the third stage, you will write a recursive guess-and-check \n",
    "  procedure that can solve _any_ valid Sudoku puzzle.  The \n",
    "  guess-and-check algorithm is sufficient to solve puzzles by itself,\n",
    "  but it is much faster when combined with the constraint \n",
    "  propagation techniques from the second stage. \n",
    "\n",
    "You can complete the first and second stages using the concepts in \n",
    "this chapter, \"aliasing on purpose\".  Read the next chapter, \n",
    "\"recursive guess and check\", before tackling the third stage. \n",
    "\n",
    "## Learning objectives\n",
    "\n",
    "There is a lot going on in this project!  Key learning objectives \n",
    "include: \n",
    "- Reinforcing your grasp of aliasing, which allows us to keep \n",
    "  references to the same object in multiple collections (on purpose, \n",
    "  this time).  \n",
    "- Practice in devising and coding loop algorithms on lists.  The \n",
    "  _hidden single_ and _naked single_ solving techniques are both \n",
    "  multi-pass algorithms using lists and sets. \n",
    "- Introduction to _constraint propagation_ as a general \n",
    "  problem-solving technique.  This and the recursive guess-and-check \n",
    "  algorithm in the third stage are fundamental algorithmic \n",
    "  techniques that are often used in artificial intelligence among \n",
    "  other domains."
   ]
  }
 ],
 "metadata": {
  "jupytext": {
   "formats": "md:myst",
   "text_representation": {
    "extension": ".myst",
    "format_name": "myst",
    "format_version": 1.1,
    "jupytext_version": "1.10.3"
   }
  },
  "kernelspec": {
   "display_name": "Python 3",
   "language": "python",
   "name": "python3"
  },
  "language_info": {
   "codemirror_mode": {
    "name": "ipython",
    "version": 3
   },
   "file_extension": ".py",
   "mimetype": "text/x-python",
   "name": "python",
   "nbconvert_exporter": "python",
   "pygments_lexer": "ipython3",
   "version": "3.13.5"
  },
  "source_map": [
   13
  ]
 },
 "nbformat": 4,
 "nbformat_minor": 5
}
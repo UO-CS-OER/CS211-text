{
 "cells": [
  {
   "cell_type": "markdown",
   "id": "54e88cda",
   "metadata": {},
   "source": [
    "# Objects \n",
    "\n",
    "In Python, objects are used to represent \n",
    "information.  Every variable you use in a Python \n",
    "program is a reference to an object.\n",
    "The values you have been using so far – \n",
    "numbers, strings, dicts, lists, etc – are objects. \n",
    "They are among the built-in classes of Python, \n",
    "i.e., kinds of value that are already defined \n",
    "when you start the Python interpreter.  \n",
    "\n",
    "You are not limited to those built-in classes. \n",
    "You can use them as a foundation to build your \n",
    "own. \n",
    "\n",
    "## Example: Points\n",
    "\n",
    "What if we wanted to define a new kind of value?\n",
    "For example, if we wanted to write a program \n",
    "to draw a graph, we might want to work with \n",
    "cartesian coordinates, representing each \n",
    "point as an (x,y) pair.  We might represent the \n",
    "point as a tuple like `(5,7)`, or we could represent \n",
    "it as the list `[5, 7]`, or we could represent\n",
    "it as a dict `{\"x\": 5, \"y\": 7}`, and that \n",
    "might be satisfactory.   If we wanted to represent moving a point (x,y)\n",
    "by some distance (dx, dy), we could define a a function like"
   ]
  },
  {
   "cell_type": "code",
   "execution_count": 1,
   "id": "9a263c76",
   "metadata": {},
   "outputs": [
    {
     "name": "stdout",
     "output_type": "stream",
     "text": [
      "(8, 15)\n"
     ]
    }
   ],
   "source": [
    "def move(p, d):\n",
    "    x,y = p\n",
    "    dx, dy = d\n",
    "    return (x+dx, y+dy)\n",
    "    \n",
    "pt_1 = (5,8)\n",
    "pt_2 = move(pt_1, (3,7))\n",
    "print(pt_2)"
   ]
  },
  {
   "cell_type": "markdown",
   "id": "cc583f61",
   "metadata": {},
   "source": [
    "But if we are making a graphics program, we'll need  *move*\n",
    "functions for other graphical objects like rectangles and ovals, \n",
    "so instead of naming it `move` we'll need a more descriptive name \n",
    "like `move_point`.  Also we should give the type contract for \n",
    "the function, which we can do with Python type hints.  With these \n",
    "changes, we get something like this"
   ]
  },
  {
   "cell_type": "code",
   "execution_count": 2,
   "id": "b9266466",
   "metadata": {},
   "outputs": [
    {
     "data": {
      "text/plain": [
       "(8, 10)"
      ]
     },
     "execution_count": 2,
     "metadata": {},
     "output_type": "execute_result"
    }
   ],
   "source": [
    "from numbers import Number\n",
    "\n",
    "def move_point(p: tuple[Number, Number],\n",
    "               d: tuple[Number, Number]) \\\n",
    "        -> tuple[Number, Number]:\n",
    "    x, y = p\n",
    "    dx, dy = d\n",
    "    return (x+dx, y+dy)\n",
    "    \n",
    "move_point((3,4),(5,6))"
   ]
  },
  {
   "cell_type": "markdown",
   "id": "03b778da",
   "metadata": {},
   "source": [
    "### Can we do better? \n",
    "\n",
    "We aren't really satisfied with using tuples to \n",
    "represent points.  What we'd really \n",
    "like is to express the concept of adding two points \n",
    "more concisely, as `(3,4) + (5,6)`.  What would happen if we \n",
    "tried this?"
   ]
  },
  {
   "cell_type": "code",
   "execution_count": 3,
   "id": "3c10a350",
   "metadata": {},
   "outputs": [
    {
     "data": {
      "text/plain": [
       "(3, 4, 5, 6)"
      ]
     },
     "execution_count": 3,
     "metadata": {},
     "output_type": "execute_result"
    }
   ],
   "source": [
    "(3,4) + (5,6)"
   ]
  },
  {
   "cell_type": "markdown",
   "id": "26dfffa4",
   "metadata": {},
   "source": [
    "That's not what we wanted!  Would it be better if we represented \n",
    "points as lists?"
   ]
  },
  {
   "cell_type": "code",
   "execution_count": 4,
   "id": "aa6bc294",
   "metadata": {},
   "outputs": [
    {
     "data": {
      "text/plain": [
       "[3, 4, 5, 6]"
      ]
     },
     "execution_count": 4,
     "metadata": {},
     "output_type": "execute_result"
    }
   ],
   "source": [
    "[3,4] + [5,6]"
   ]
  },
  {
   "cell_type": "markdown",
   "id": "61ce28ca",
   "metadata": {},
   "source": [
    "No better.  Maybe as dicts?"
   ]
  },
  {
   "cell_type": "code",
   "execution_count": 5,
   "id": "7c7369d0",
   "metadata": {
    "tags": [
     "raises-exception"
    ]
   },
   "outputs": [
    {
     "ename": "TypeError",
     "evalue": "unsupported operand type(s) for +: 'dict' and 'dict'",
     "output_type": "error",
     "traceback": [
      "\u001b[0;31m---------------------------------------------------------------------------\u001b[0m",
      "\u001b[0;31mTypeError\u001b[0m                                 Traceback (most recent call last)",
      "Cell \u001b[0;32mIn[5], line 1\u001b[0m\n\u001b[0;32m----> 1\u001b[0m \u001b[43m{\u001b[49m\u001b[38;5;124;43m\"\u001b[39;49m\u001b[38;5;124;43mx\u001b[39;49m\u001b[38;5;124;43m\"\u001b[39;49m\u001b[43m:\u001b[49m\u001b[43m \u001b[49m\u001b[38;5;241;43m3\u001b[39;49m\u001b[43m,\u001b[49m\u001b[43m \u001b[49m\u001b[38;5;124;43m\"\u001b[39;49m\u001b[38;5;124;43my\u001b[39;49m\u001b[38;5;124;43m\"\u001b[39;49m\u001b[43m:\u001b[49m\u001b[43m \u001b[49m\u001b[38;5;241;43m4\u001b[39;49m\u001b[43m}\u001b[49m\u001b[43m \u001b[49m\u001b[38;5;241;43m+\u001b[39;49m\u001b[43m \u001b[49m\u001b[43m{\u001b[49m\u001b[38;5;124;43m\"\u001b[39;49m\u001b[38;5;124;43mx\u001b[39;49m\u001b[38;5;124;43m\"\u001b[39;49m\u001b[43m:\u001b[49m\u001b[43m \u001b[49m\u001b[38;5;241;43m5\u001b[39;49m\u001b[43m,\u001b[49m\u001b[43m \u001b[49m\u001b[38;5;124;43m\"\u001b[39;49m\u001b[38;5;124;43my\u001b[39;49m\u001b[38;5;124;43m\"\u001b[39;49m\u001b[43m:\u001b[49m\u001b[43m \u001b[49m\u001b[38;5;241;43m6\u001b[39;49m\u001b[43m}\u001b[49m\n",
      "\u001b[0;31mTypeError\u001b[0m: unsupported operand type(s) for +: 'dict' and 'dict'"
     ]
    }
   ],
   "source": [
    "{\"x\": 3, \"y\": 4} + {\"x\": 5, \"y\": 6}"
   ]
  },
  {
   "cell_type": "markdown",
   "id": "fc5acfd2",
   "metadata": {},
   "source": [
    "That is not much of an improvement, although \n",
    "an error message is usually better than silently \n",
    "producing a bad result. What we really\n",
    "want is not to use one of the \n",
    "existing representations like lists or tuples or dicts, \n",
    "but to define a new representation for points.  \n",
    "\n",
    "### A new representation\n",
    "\n",
    "Each data type in Python, including list, tuple, \n",
    "and dict, is defined as a *class* from which \n",
    "*objects* can be constructed.  We can also define \n",
    "our own classes, to construct new kinds of objects.   \n",
    "For example, we can make a new class `Point` to \n",
    "represent points.  \n",
    "\n",
    "```python\n",
    "class Point:\n",
    "    \"\"\"An (x,y) coordinate pair\"\"\"\n",
    "```\n",
    "\n",
    "Inside the class we can define *methods*, which are like functions \n",
    "that are specialized for the new representation.   The first \n",
    "method we should define is a *constructor* with the name `__init__`. \n",
    "The constructor describes how to create a new `Point` object:"
   ]
  },
  {
   "cell_type": "code",
   "execution_count": 6,
   "id": "751005e5",
   "metadata": {},
   "outputs": [
    {
     "name": "stdout",
     "output_type": "stream",
     "text": [
      "p has x coordinate 5 and y coordinate 3\n"
     ]
    }
   ],
   "source": [
    "class Point:\n",
    "    \"\"\"An (x,y) coordinate pair\"\"\"\n",
    "    def __init__(self, x: Number, y: Number):\n",
    "        self.x = x\n",
    "        self.y = y\n",
    "        \n",
    "p = Point(5,3)\n",
    "\n",
    "print(f\"p has x coordinate {p.x} and y coordinate {p.y}\")"
   ]
  },
  {
   "cell_type": "markdown",
   "id": "4b69715e",
   "metadata": {},
   "source": [
    "### Instance variables \n",
    "\n",
    "Notice that the first argument to the constructor method is \n",
    "`self`, and within the method we refer to `self.x` and `self.y`.\n",
    "In a method that operates on some object *o*, the first argument\n",
    "to the method will always be `self`, which refers to the whole \n",
    "object *o*.   Within the `self` object we can store *instance \n",
    "variables*, like `self.x` and `self.y` \n",
    "for the *x* and *y* coordinates of a point.\n",
    "When we use the Point object `p` from outside the class,\n",
    "we refer to those elements as `p.x` and `p.y`, as in the\n",
    "print statement above.   Sometimes we'll save a few\n",
    "syllables by referring to `x` and `y` as _fields_ of `p`. \n",
    "\n",
    "### Methods\n",
    "\n",
    "What about defining an operation for moving a point?  Instead of \n",
    "adding `_point` to the name of a `move` function, we can just \n",
    "put the function (now called a *method*) *inside* the `Point` \n",
    "class:"
   ]
  },
  {
   "cell_type": "code",
   "execution_count": 7,
   "id": "d077d90e",
   "metadata": {},
   "outputs": [],
   "source": [
    "class Point:\n",
    "    \"\"\"An (x,y) coordinate pair\"\"\"\n",
    "    def __init__(self, x: Number, y: Number):\n",
    "        self.x = x\n",
    "        self.y = y\n",
    "\n",
    "    def move(self, d: \"Point\") -> \"Point\":\n",
    "        \"\"\"(x,y).move(dx,dy) = (x+dx, y+dy)\"\"\"\n",
    "        x = self.x + d.x\n",
    "        y = self.y + d.y\n",
    "        return Point(x,y)"
   ]
  },
  {
   "cell_type": "markdown",
   "id": "f417ad8a",
   "metadata": {},
   "source": [
    "Notice that the *instance variables* (or *fields*)\n",
    "`self.x` and `self.y` we created in the constructor \n",
    "can be used in the `move` method.  They are part of \n",
    "the object, and can be used by any method in the class.\n",
    "The instance variables of the other `Point` object `d` \n",
    "are also available \n",
    "in the `move` method.  Let's look at how these objects \n",
    "are passed to the `move` method. \n",
    "\n",
    "### Method calls\n",
    "\n",
    "Next we'll create two `Point` objects and call the `move` method \n",
    "to create a third `Point` object with the sums of their *x* and \n",
    "*y* coordinates:"
   ]
  },
  {
   "cell_type": "code",
   "execution_count": 8,
   "id": "bf4d1284",
   "metadata": {},
   "outputs": [
    {
     "name": "stdout",
     "output_type": "stream",
     "text": [
      "m has x coordinate 8 and y coordinate 10\n"
     ]
    }
   ],
   "source": [
    "p = Point(3,4)\n",
    "v = Point(5,6)\n",
    "m = p.move(v)\n",
    "\n",
    "print(f\"m has x coordinate {m.x} and y coordinate {m.y}\")"
   ]
  },
  {
   "cell_type": "markdown",
   "id": "2283af34",
   "metadata": {},
   "source": [
    "At first it may seem confusing that we defined the ```move``` method\n",
    "with two arguments, `self` and `d`, but\n",
    "it looks like we passed it only one argument, `v`. In fact\n",
    "we passed it both points:  `p.move(v)` passes `p` as the `self` argument\n",
    "and `v` as the `d` argument.   Python uses the variable\n",
    "before the `.`, like `p` in this case, in two different ways: To find\n",
    "the right method (function) to call, by looking inside the *class* to\n",
    "which `p` belongs, and to pass as the `self` argument to the method.\n",
    "\n",
    "The `move` method above returns a new `Point` object at the \n",
    "computed coordinates.  A method can also change the values of \n",
    "instance variables.   For example, suppose we add a `move_to` \n",
    "method to `Point`:"
   ]
  },
  {
   "cell_type": "code",
   "execution_count": 9,
   "id": "bd21591d",
   "metadata": {},
   "outputs": [
    {
     "name": "stdout",
     "output_type": "stream",
     "text": [
      "(19, 23)\n"
     ]
    }
   ],
   "source": [
    "class Point:\n",
    "    \"\"\"An (x,y) coordinate pair\"\"\"\n",
    "    def __init__(self, x: Number, y: Number):\n",
    "        self.x = x\n",
    "        self.y = y\n",
    "\n",
    "    def move(self, d: \"Point\") -> \"Point\":\n",
    "        \"\"\"(x,y).move(dx,dy) = (x+dx, y+dy)\"\"\"\n",
    "        x = self.x + d.x\n",
    "        y = self.y + d.y\n",
    "        return Point(x,y)\n",
    "        \n",
    "    def move_to(self, new_x, new_y):\n",
    "        \"\"\"Change the coordinates of this Point\"\"\"\n",
    "        self.x = new_x\n",
    "        self.y = new_y\n",
    "\n",
    "m = Point(3,4)\n",
    "m.move_to(19,23)\n",
    "print(f\"({m.x}, {m.y})\")"
   ]
  },
  {
   "cell_type": "markdown",
   "id": "479832b3",
   "metadata": {},
   "source": [
    "Note that the `move_to` method does _not_\n",
    "return the moved point.  This is a common mistake!"
   ]
  },
  {
   "cell_type": "code",
   "execution_count": 10,
   "id": "b9045ef8",
   "metadata": {
    "tags": [
     "raises-exception"
    ]
   },
   "outputs": [
    {
     "name": "stdout",
     "output_type": "stream",
     "text": [
      "None\n"
     ]
    },
    {
     "ename": "AttributeError",
     "evalue": "'NoneType' object has no attribute 'x'",
     "output_type": "error",
     "traceback": [
      "\u001b[0;31m---------------------------------------------------------------------------\u001b[0m",
      "\u001b[0;31mAttributeError\u001b[0m                            Traceback (most recent call last)",
      "Cell \u001b[0;32mIn[10], line 5\u001b[0m\n\u001b[1;32m      2\u001b[0m \u001b[38;5;28mprint\u001b[39m(w)\n\u001b[1;32m      4\u001b[0m \u001b[38;5;66;03m# Attempting to access w.x or w.y will fail: \u001b[39;00m\n\u001b[0;32m----> 5\u001b[0m \u001b[38;5;28mprint\u001b[39m(\u001b[38;5;124mf\u001b[39m\u001b[38;5;124m\"\u001b[39m\u001b[38;5;124mw has x coordinate \u001b[39m\u001b[38;5;132;01m{\u001b[39;00m\u001b[43mw\u001b[49m\u001b[38;5;241;43m.\u001b[39;49m\u001b[43mx\u001b[49m\u001b[38;5;132;01m}\u001b[39;00m\u001b[38;5;124m and y coordinate \u001b[39m\u001b[38;5;132;01m{\u001b[39;00mw\u001b[38;5;241m.\u001b[39my\u001b[38;5;132;01m}\u001b[39;00m\u001b[38;5;124m\"\u001b[39m)\n",
      "\u001b[0;31mAttributeError\u001b[0m: 'NoneType' object has no attribute 'x'"
     ]
    }
   ],
   "source": [
    "w = m.move_to(19, 23)  # Oops! \n",
    "print(w)\n",
    "\n",
    "# Attempting to access w.x or w.y will fail: \n",
    "print(f\"w has x coordinate {w.x} and y coordinate {w.y}\")"
   ]
  },
  {
   "cell_type": "markdown",
   "id": "23352c69",
   "metadata": {},
   "source": [
    "### What is `self`?\n",
    "\n",
    "Many people are confused by the `self` variable.  The name `self` is \n",
    "merely a convention in Python.  Conventions are important for \n",
    "readability and avoiding errors, so you should never write code \n",
    "like the following, but it may help you to see that there is really \n",
    "nothing special about `self` aside from convention."
   ]
  },
  {
   "cell_type": "code",
   "execution_count": 11,
   "id": "d0d82c7e",
   "metadata": {},
   "outputs": [
    {
     "name": "stdout",
     "output_type": "stream",
     "text": [
      "30\n"
     ]
    }
   ],
   "source": [
    "class BadExample():\n",
    "    \"\"\"An example in which we use other names instead of \"self\".\n",
    "    DON'T DO THIS ... but understand it. \n",
    "    \"\"\"\n",
    "    \n",
    "    def __init__(elephant, x: int): \n",
    "        elephant.v = x    # Might as well be consistently inconsistent\n",
    "        \n",
    "    def increase(zebra, y: int): \n",
    "        zebra.v += y\n",
    "        \n",
    "wacky = BadExample(17)\n",
    "wacky.increase(13)\n",
    "print(wacky.v)"
   ]
  },
  {
   "cell_type": "markdown",
   "id": "08d54130",
   "metadata": {},
   "source": [
    "As you can see, when we make a method call like `wacky.increase(13)`,\n",
    "the first argument is the object `wacky`.  We ordinarily call that \n",
    "argument `self`, not because it matters to Python, but because it \n",
    "matters to other programmers who need to read and understand our code. \n",
    "\n",
    "### *Check your understanding*\n",
    "\n",
    "Consider class `Pet` and object `my_pet`.  \n",
    "What are the *instance variables* of `my_pet`? \n",
    "What are the values of those instance variables \n",
    "after executing the code below? \n",
    "\n",
    "```python\n",
    "class Pet: \n",
    "    def __init__(self, kind: str, name: str):\n",
    "        self.species = kind\n",
    "        self.called = name\n",
    "    \n",
    "    def rename(self, new_name):\n",
    "        self.called = new_name\n",
    "\n",
    "my_pet = Pet(\"canis familiaris\", \"fido\")\n",
    "```\n",
    "\n",
    "\n",
    "## Combining Objects: Composing\n",
    "\n",
    "The *instance variables* defined in a class and stored \n",
    "in the objects of that class can themselves be objects. \n",
    "We can make lists of objects, tuples of objects, etc. \n",
    "\n",
    "Often we will want to create a new class with instance \n",
    "variables that are objects created from classes that \n",
    "we have previously created.  For example, if we create a \n",
    "new class `Rect` to represent rectangles, we might want\n",
    "to use `Point` objects to represent two corners of \n",
    "the rectangle:"
   ]
  },
  {
   "cell_type": "code",
   "execution_count": 12,
   "id": "ebb3a1ea",
   "metadata": {
    "tags": [
     "hide-cell"
    ]
   },
   "outputs": [],
   "source": [
    "class Point:\n",
    "    \"\"\"An (x,y) coordinate pair\"\"\"\n",
    "    def __init__(self, x: Number, y: Number):\n",
    "        self.x = x\n",
    "        self.y = y\n",
    "    \n",
    "    def move(self, d: \"Point\") -> \"Point\":\n",
    "        \"\"\"(x,y).move(dx,dy) = (x+dx, y+dy)\"\"\"\n",
    "        x = self.x + d.x\n",
    "        y = self.y + d.y\n",
    "        return Point(x,y)\n",
    "        \n",
    "    def move_to(self, new_x, new_y):\n",
    "        \"\"\"Change the coordinates of this Point\"\"\"\n",
    "        self.x = new_x\n",
    "        self.y = new_y\n",
    "        \n",
    "    def __add__(self, other: \"Point\"):\n",
    "        \"\"\"(x,y) + (dx, dy) = (x+dx, y+dy)\"\"\"\n",
    "        return Point(self.x + other.x, self.y + other.y)\n",
    "\n",
    "    def __str__(self) -> str:\n",
    "        \"\"\"Printed representation.\n",
    "        str(p) is an implicit call to p.__str__()\n",
    "        \"\"\"\n",
    "        return f\"({self.x}, {self.y})\"\n",
    "      \n",
    "    def __repr__(self) -> str:\n",
    "        \"\"\"Debugging representation.  This is what\n",
    "        we see if we type a point name at the console.\n",
    "        \"\"\"\n",
    "        return f\"Point({self.x}, {self.y})\""
   ]
  },
  {
   "cell_type": "code",
   "execution_count": 13,
   "id": "82f3b44d",
   "metadata": {},
   "outputs": [
    {
     "name": "stdout",
     "output_type": "stream",
     "text": [
      "Rect((3, 5), (8, 7)) + (4, 5) => Rect((7, 10), (12, 12))\n",
      "Area of Rect((3, 5), (8, 7)) is 10\n"
     ]
    }
   ],
   "source": [
    "class Rect:\n",
    "    \"\"\"A rectangle is represented by a pair of points\n",
    "    (x_min, y_min), (x_max, y_max) at opposite corners.\n",
    "    Whether (x_min, y_min) is lower left or upper left\n",
    "    depends on the coordinate system.\n",
    "    \"\"\"\n",
    "    def __init__(self, xy_min: Point, xy_max: Point):\n",
    "        self.min_pt = xy_min\n",
    "        self.max_pt = xy_max\n",
    "    \n",
    "    def area(self) -> Number:\n",
    "        \"\"\"Area is height * width\"\"\"\n",
    "        height = self.max_pt.x - self.min_pt.x\n",
    "        width = self.max_pt.y - self.min_pt.y\n",
    "        return height * width\n",
    "\n",
    "    def translate(self, delta: Point) -> \"Rect\":\n",
    "        \"\"\"New rectangle offset from this one by delta as movement vector\"\"\"\n",
    "        return Rect(self.min_pt + delta, self.max_pt + delta)\n",
    "\n",
    "    def __repr__(self) -> str:\n",
    "        return f\"Rect({repr(self.min_pt)}, {repr(self.max_pt)}\"\n",
    "\n",
    "    def __str__(self) -> str:\n",
    "        return f\"Rect({str(self.min_pt)}, {str(self.max_pt)})\"\n",
    "\n",
    "p1 = Point(3,5)\n",
    "p2 = Point(8,7)\n",
    "r1 = Rect(p1, p2)\n",
    "mvmt = Point(4, 5)\n",
    "r2 = r1.translate(mvmt)  # Treat Point(4,5) as (dx, dy)\n",
    "print(f\"{r1} + {mvmt} => {r2}\")\n",
    "print(f\"Area of {r1} is {r1.area()}\")"
   ]
  },
  {
   "cell_type": "markdown",
   "id": "b7372ae7",
   "metadata": {},
   "source": [
    "Note that the `height` and `width` are local variables \n",
    "that exist only while method `area` is executing. \n",
    "`min_pt` and `max_pt`, on the other hand, are \n",
    "*instance variables* that are stored within the \n",
    "`Rect` object.  \n",
    "\n",
    "### *Check your understanding*\n",
    "\n",
    "Suppose we ran the above code in PythonTutor. \n",
    "(PythonTutor cannot import `Number`, but for the examples we could \n",
    "replace it with `int`.)  What picture would it draw \n",
    "of `r1`?   Would `height` and `width` in method \n",
    "`area` be included as instance variables?  Why or \n",
    "why not?  \n",
    "\n",
    "\n",
    "## Wrapping and delegation\n",
    "\n",
    "Sometimes we want a class of objects that is almost\n",
    "like an existing class, but with a little extra \n",
    "information or a few new methods.  One way to do this \n",
    "is to build a new class that _wraps_ an existing class, \n",
    "often a built-in class like `list` or `dict`.  (In\n",
    "[the next chapter](../02_Inheritance/02_1_Inheritance.md) we will\n",
    "see another approach.)\n",
    "\n",
    "Suppose we wanted objects that provide some of the same \n",
    "functionality as `list` objects, and also some new \n",
    "functionality or some restrictions.  For example, we \n",
    "might want a method `area` that returns the sum of \n",
    "the areas of all the `Rect` objects in the `RectList`:"
   ]
  },
  {
   "cell_type": "code",
   "execution_count": 14,
   "id": "19b2da1b",
   "metadata": {},
   "outputs": [],
   "source": [
    "class RectList:\n",
    "    \"\"\"A collection of Rects.\"\"\"\n",
    "\n",
    "    def __init__(self):\n",
    "        self.elements = [ ]\n",
    "\n",
    "    def area(self) -> Number:\n",
    "        total = 0\n",
    "        for el in self.elements:\n",
    "            total += el.area()\n",
    "        return total"
   ]
  },
  {
   "cell_type": "markdown",
   "id": "d4c4e101",
   "metadata": {},
   "source": [
    "That seems reasonable, but how do we add `Rect` objects to the \n",
    "`Rectlist`? \n",
    "\n",
    "We do *not* want to do it this way: \n",
    "\n",
    "```python3\n",
    "li = RectList()\n",
    "# DON'T DO THIS\n",
    "li.elements.append(Rect(Point(3,3), Point(5,7)))\n",
    "li.elements.append(Rect(Point(2,2), Point(3,3)))\n",
    "```\n",
    "\n",
    "As a general rule, we should be cautious about accessing the instance \n",
    "variables of an object outside of methods of the object's class, \n",
    "and we should especially avoid modifying instance variables anywhere \n",
    "except in methods.  Code that \"breaks the abstraction\", like the example\n",
    "above calling the `append` method of the `elements` instance variable, is \n",
    "difficult to read and maintain. So we want instead to give `RectList`\n",
    "it's own `append` method, so that we can write \n",
    "\n",
    "```python3\n",
    "li = RectList()\n",
    "li.append(Rect(Point(3,3), Point(5,7)))\n",
    "li.append(Rect(Point(2,2), Point(3,3)))\n",
    "print(f\"Combined area is {li.area()}\")\n",
    "```\n",
    "  \n",
    "The `append` method can be very simple! \n",
    "\n",
    "```python\n",
    "    def append(self, item: Rect):\n",
    "        \"\"\"Delegate to elements\"\"\"\n",
    "        self.elements.append(item)\n",
    "```"
   ]
  },
  {
   "cell_type": "code",
   "execution_count": 15,
   "id": "8887d999",
   "metadata": {
    "tags": [
     "hide-cell"
    ]
   },
   "outputs": [],
   "source": [
    "class RectList:\n",
    "    \"\"\"A collection of Rects.\"\"\"\n",
    "\n",
    "    def __init__(self):\n",
    "        self.elements = [ ]\n",
    "        \n",
    "    def append(self, item: Rect):\n",
    "        \"\"\"Delegate to elements\"\"\"\n",
    "        self.elements.append(item)\n",
    "\n",
    "    def area(self) -> Number:\n",
    "        total = 0\n",
    "        for el in self.elements:\n",
    "            total += el.area()\n",
    "        return total"
   ]
  },
  {
   "cell_type": "code",
   "execution_count": 16,
   "id": "34bb2012",
   "metadata": {},
   "outputs": [
    {
     "name": "stdout",
     "output_type": "stream",
     "text": [
      "Combined area is 9\n"
     ]
    }
   ],
   "source": [
    "li = RectList()\n",
    "li.append(Rect(Point(3,3), Point(5,7)))\n",
    "li.append(Rect(Point(2,2), Point(3,3)))\n",
    "print(f\"Combined area is {li.area()}\")"
   ]
  },
  {
   "cell_type": "markdown",
   "id": "2a12077d",
   "metadata": {},
   "source": [
    "We call this *delegation* because `append` method of `RectList` method  \n",
    "just hands off the work to the `append` method of class `list`.  When we \n",
    "write a *wrapper* class, we typically write several such \n",
    "trivial *delegation* methods.   \n",
    "\n",
    "Wrapping and delegation work well when we want the wrapper class \n",
    "(like `RectList` in this example) to\n",
    "have a few of the same methods as the wrapped class (`list`).  When \n",
    "we want the new collection class to have all or nearly all the methods \n",
    "of an existing collection, the *inheritance* approach introduced in the \n",
    "next chapter is more appropriate."
   ]
  }
 ],
 "metadata": {
  "jupytext": {
   "formats": "md:myst",
   "text_representation": {
    "extension": ".myst",
    "format_name": "myst",
    "format_version": 1.1,
    "jupytext_version": "1.10.3"
   }
  },
  "kernelspec": {
   "display_name": "Python 3",
   "language": "python",
   "name": "python3"
  },
  "language_info": {
   "codemirror_mode": {
    "name": "ipython",
    "version": 3
   },
   "file_extension": ".py",
   "mimetype": "text/x-python",
   "name": "python",
   "nbconvert_exporter": "python",
   "pygments_lexer": "ipython3",
   "version": "3.13.5"
  },
  "source_map": [
   13,
   43,
   52,
   61,
   72,
   82,
   84,
   89,
   91,
   95,
   99,
   127,
   137,
   160,
   172,
   189,
   195,
   211,
   232,
   237,
   245,
   255,
   270,
   310,
   347,
   381,
   415,
   427,
   464,
   483,
   488
  ]
 },
 "nbformat": 4,
 "nbformat_minor": 5
}
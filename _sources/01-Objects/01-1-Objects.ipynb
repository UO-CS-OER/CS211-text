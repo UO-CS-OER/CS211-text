{
 "cells": [
  {
   "cell_type": "markdown",
   "id": "24d947ce",
   "metadata": {},
   "source": [
    "# Objects \n",
    "\n",
    "In Python, objects are used to represent \n",
    "information.  Every variable you use in a Python \n",
    "program is a reference to an object.\n",
    "The values you have been using so far – \n",
    "numbers, strings, dicts, lists, etc – are objects. \n",
    "They are among the built-in classes of Python, \n",
    "i.e., kinds of value that are already defined \n",
    "when you start the Python interpreter.  \n",
    "\n",
    "You are not limited to those built-in classes. \n",
    "You can use them as a foundation to build your \n",
    "own. \n",
    "\n",
    "## Example: Points\n",
    "\n",
    "What if we wanted to define a new kind of value?\n",
    "For example, if we wanted to write a program \n",
    "to draw a graph, we might want to work with \n",
    "cartesian coordinates, representing each \n",
    "point as an (x,y) pair.  We might represent the \n",
    "point as a tuple like `(5,7)`, or we could represent \n",
    "it as the list `[5, 7]`, or we could represent\n",
    "it as a dict `{\"x\": 5, \"y\": 7}`, and that \n",
    "might be satisfactory.   If we wanted to represent moving a point (x,y) by some distance (dx, dy), we could define a a function like"
   ]
  },
  {
   "cell_type": "code",
   "execution_count": 1,
   "id": "e5a4aa84",
   "metadata": {},
   "outputs": [
    {
     "name": "stdout",
     "output_type": "stream",
     "text": [
      "(8, 15)\n"
     ]
    }
   ],
   "source": [
    "def move(p, d):\n",
    "    x,y = p\n",
    "    dx, dy = d\n",
    "    return (x+dx, y+dy)\n",
    "    \n",
    "pt_1 = (5,8)\n",
    "pt_2 = move(pt_1, (3,7))\n",
    "print(pt_2)"
   ]
  },
  {
   "cell_type": "markdown",
   "id": "929b4b39",
   "metadata": {},
   "source": [
    "But if we are making a graphics program, we'll need to *move*\n",
    "functions for other graphical objects like rectangles and ovals, \n",
    "so instead of naming it `move` we'll need a more descriptive name \n",
    "like `move_point`.  Also we should give the type contract for \n",
    "the function, which we can do with Python type hints.  With these \n",
    "changes, we get something like this"
   ]
  },
  {
   "cell_type": "code",
   "execution_count": 2,
   "id": "bc355d8d",
   "metadata": {},
   "outputs": [
    {
     "data": {
      "text/plain": [
       "(8, 10)"
      ]
     },
     "execution_count": 2,
     "metadata": {},
     "output_type": "execute_result"
    }
   ],
   "source": [
    "from typing import Tuple\n",
    "from numbers import Number\n",
    "\n",
    "def move_point(p: Tuple[Number, Number],\n",
    "               d: Tuple[Number, Number]) \\\n",
    "        -> Tuple[Number, Number]:\n",
    "    x, y = p\n",
    "    dx, dy = d\n",
    "    return (x+dx, y+dy)\n",
    "    \n",
    "move_point((3,4),(5,6))"
   ]
  },
  {
   "cell_type": "markdown",
   "id": "fb59b1dd",
   "metadata": {},
   "source": [
    "### Can we do better? \n",
    "\n",
    "We aren't really satisfied with using tuples to \n",
    "represent points.  What we'd really \n",
    "like is to express the concept of adding two points \n",
    "more concisely, as `(3,4) + (5,6)`.  What would happen if we \n",
    "tried this?"
   ]
  },
  {
   "cell_type": "code",
   "execution_count": 3,
   "id": "b9298f7e",
   "metadata": {},
   "outputs": [
    {
     "data": {
      "text/plain": [
       "(3, 4, 5, 6)"
      ]
     },
     "execution_count": 3,
     "metadata": {},
     "output_type": "execute_result"
    }
   ],
   "source": [
    "(3,4) + (5,6)"
   ]
  },
  {
   "cell_type": "markdown",
   "id": "83b95d71",
   "metadata": {},
   "source": [
    "That's not what we wanted!  Would it be better if we represented \n",
    "points as lists?"
   ]
  },
  {
   "cell_type": "code",
   "execution_count": 4,
   "id": "ba63028c",
   "metadata": {},
   "outputs": [
    {
     "data": {
      "text/plain": [
       "[3, 4, 5, 6]"
      ]
     },
     "execution_count": 4,
     "metadata": {},
     "output_type": "execute_result"
    }
   ],
   "source": [
    "[3,4] + [5,6]"
   ]
  },
  {
   "cell_type": "markdown",
   "id": "61cf1bde",
   "metadata": {},
   "source": [
    "No better.  Maybe as dicts?"
   ]
  },
  {
   "cell_type": "code",
   "execution_count": 5,
   "id": "0ce09076",
   "metadata": {
    "tags": [
     "raises-exception"
    ]
   },
   "outputs": [
    {
     "ename": "TypeError",
     "evalue": "unsupported operand type(s) for +: 'dict' and 'dict'",
     "output_type": "error",
     "traceback": [
      "\u001b[0;31m---------------------------------------------------------------------------\u001b[0m",
      "\u001b[0;31mTypeError\u001b[0m                                 Traceback (most recent call last)",
      "Cell \u001b[0;32mIn[5], line 1\u001b[0m\n\u001b[0;32m----> 1\u001b[0m \u001b[43m{\u001b[49m\u001b[38;5;124;43m\"\u001b[39;49m\u001b[38;5;124;43mx\u001b[39;49m\u001b[38;5;124;43m\"\u001b[39;49m\u001b[43m:\u001b[49m\u001b[43m \u001b[49m\u001b[38;5;241;43m3\u001b[39;49m\u001b[43m,\u001b[49m\u001b[43m \u001b[49m\u001b[38;5;124;43m\"\u001b[39;49m\u001b[38;5;124;43my\u001b[39;49m\u001b[38;5;124;43m\"\u001b[39;49m\u001b[43m:\u001b[49m\u001b[43m \u001b[49m\u001b[38;5;241;43m4\u001b[39;49m\u001b[43m}\u001b[49m\u001b[43m \u001b[49m\u001b[38;5;241;43m+\u001b[39;49m\u001b[43m \u001b[49m\u001b[43m{\u001b[49m\u001b[38;5;124;43m\"\u001b[39;49m\u001b[38;5;124;43mx\u001b[39;49m\u001b[38;5;124;43m\"\u001b[39;49m\u001b[43m:\u001b[49m\u001b[43m \u001b[49m\u001b[38;5;241;43m5\u001b[39;49m\u001b[43m,\u001b[49m\u001b[43m \u001b[49m\u001b[38;5;124;43m\"\u001b[39;49m\u001b[38;5;124;43my\u001b[39;49m\u001b[38;5;124;43m\"\u001b[39;49m\u001b[43m:\u001b[49m\u001b[43m \u001b[49m\u001b[38;5;241;43m6\u001b[39;49m\u001b[43m}\u001b[49m\n",
      "\u001b[0;31mTypeError\u001b[0m: unsupported operand type(s) for +: 'dict' and 'dict'"
     ]
    }
   ],
   "source": [
    "{\"x\": 3, \"y\": 4} + {\"x\": 5, \"y\": 6}"
   ]
  },
  {
   "cell_type": "markdown",
   "id": "0c6cd7c5",
   "metadata": {},
   "source": [
    "That is not much of an improvement, although \n",
    "an error message is usually better than silently \n",
    "producing a bad result. What we really\n",
    "want is not to use one of the \n",
    "existing representations like lists or tuples or dicts, \n",
    "but to define a new representation for points.  \n",
    "\n",
    "### A new representation\n",
    "\n",
    "Each data type in Python, including list, tuple, \n",
    "and dict, is defined as a *class* from which \n",
    "*objects* can be constructed.  We can also define \n",
    "our own classes, to construct new kinds of objects.   \n",
    "For example, we can make a new class `Point` to \n",
    "represent points.  \n",
    "\n",
    "```python\n",
    "class Point:\n",
    "    \"\"\"An (x,y) coordinate pair\"\"\"\n",
    "```\n",
    "\n",
    "Inside the class we can define *methods*, which are like functions \n",
    "that are specialized for the new representation.   The first \n",
    "method we should define is a *constructor* with the name `__init__`. \n",
    "The constructor describes how to create a new `Point` object:"
   ]
  },
  {
   "cell_type": "code",
   "execution_count": 6,
   "id": "89ff376d",
   "metadata": {},
   "outputs": [
    {
     "name": "stdout",
     "output_type": "stream",
     "text": [
      "p has x coordinate 5 and y coordinate 3\n"
     ]
    }
   ],
   "source": [
    "class Point:\n",
    "    \"\"\"An (x,y) coordinate pair\"\"\"\n",
    "    def __init__(self, x: Number, y: Number):\n",
    "        self.x = x\n",
    "        self.y = y\n",
    "        \n",
    "p = Point(5,3)\n",
    "\n",
    "print(f\"p has x coordinate {p.x} and y coordinate {p.y}\")"
   ]
  },
  {
   "cell_type": "markdown",
   "id": "5070a84a",
   "metadata": {},
   "source": [
    "### Instance variables \n",
    "\n",
    "Notice that the first argument to the constructor method is \n",
    "`self`, and within the method we refer to `self.x` and `self.y`.\n",
    "In a method that operates on some object *o*, the first argument\n",
    "to the method will always be `self`, which refers to the whole \n",
    "object *o*.   Within the `self` object we can store *instance \n",
    "variables*, like `self.x` and `self.y` \n",
    "for the *x* and *y* coordinates of a point.\n",
    "When we use the Point object `p` from outside the class,\n",
    "we refer to those elements as `p.x` and `p.y`, as in the\n",
    "print statement above. \n",
    "\n",
    "### Methods\n",
    "\n",
    "What about defining an operation for moving a point?  Instead of \n",
    "adding `_point` to the name of a `move` function, we can just \n",
    "put the function (now called a *method*) *inside* the `Point` \n",
    "class:"
   ]
  },
  {
   "cell_type": "code",
   "execution_count": 7,
   "id": "ef8cd018",
   "metadata": {},
   "outputs": [],
   "source": [
    "class Point:\n",
    "    \"\"\"An (x,y) coordinate pair\"\"\"\n",
    "    def __init__(self, x: Number, y: Number):\n",
    "        self.x = x\n",
    "        self.y = y\n",
    "\n",
    "    def move(self, d: \"Point\") -> \"Point\":\n",
    "        \"\"\"(x,y).move(dx,dy) = (x+dx, y+dy)\"\"\"\n",
    "        x = self.x + d.x\n",
    "        y = self.y + d.y\n",
    "        return Point(x,y)"
   ]
  },
  {
   "cell_type": "markdown",
   "id": "356ac451",
   "metadata": {},
   "source": [
    "Notice that the *instance variables* \n",
    "`self.x` and `self.y` we created in the constructor \n",
    "can be used in the `move` method.  They are part of \n",
    "the object, and can be used by any method in the class.\n",
    "The instance variables of the other `Point` object `d` \n",
    "are also available \n",
    "in the `move` method.  Let's look at how these objects \n",
    "are passed to the `move` method. \n",
    "\n",
    "### Method calls\n",
    "\n",
    "Next we'll create two `Point` objects and call the `move` method \n",
    "to create a third `Point` object with the sums of their *x* and \n",
    "*y* coordinates:"
   ]
  },
  {
   "cell_type": "code",
   "execution_count": 8,
   "id": "98115f9a",
   "metadata": {},
   "outputs": [
    {
     "name": "stdout",
     "output_type": "stream",
     "text": [
      "m has x coordinate 8 and y coordinate 10\n"
     ]
    }
   ],
   "source": [
    "p = Point(3,4)\n",
    "v = Point(5,6)\n",
    "m = p.move(v)\n",
    "\n",
    "print(f\"m has x coordinate {m.x} and y coordinate {m.y}\")"
   ]
  },
  {
   "cell_type": "markdown",
   "id": "9050759a",
   "metadata": {},
   "source": [
    "At first it may seem confusing that we defined the ```move``` method with two arguments, `self` and `d`, but \n",
    "it looks like we passed it only one argument, `v`.  In fact \n",
    "we passed it both points:  `p.move(v)` passes `p` as the `self` argument and `v` as the `d` argument.  We use the variable \n",
    "before the `.`, like `p` in this case, in two different ways: To find the right method (function) to call, by looking inside the *class* to \n",
    "which `p` belongs, and to pass as the `self` argument to the method.\n",
    "\n",
    "The `move` method above returns a new `Point` object at the \n",
    "computed coordinates.  A method can also change the values of \n",
    "instance variables.   For example, suppose we add a `move_to` \n",
    "method to `Point`:"
   ]
  },
  {
   "cell_type": "code",
   "execution_count": 9,
   "id": "f4a8f41c",
   "metadata": {},
   "outputs": [
    {
     "name": "stdout",
     "output_type": "stream",
     "text": [
      "(19, 23)\n"
     ]
    }
   ],
   "source": [
    "class Point:\n",
    "    \"\"\"An (x,y) coordinate pair\"\"\"\n",
    "    def __init__(self, x: Number, y: Number):\n",
    "        self.x = x\n",
    "        self.y = y\n",
    "\n",
    "    def move(self, d: \"Point\") -> \"Point\":\n",
    "        \"\"\"(x,y).move(dx,dy) = (x+dx, y+dy)\"\"\"\n",
    "        x = self.x + d.x\n",
    "        y = self.y + d.y\n",
    "        return Point(x,y)\n",
    "        \n",
    "    def move_to(self, new_x, new_y):\n",
    "        \"\"\"Change the coordinates of this Point\"\"\"\n",
    "        self.x = new_x\n",
    "        self.y = new_y\n",
    "\n",
    "m = Point(3,4)\n",
    "m.move_to(19,23)\n",
    "print(f\"({m.x}, {m.y})\")"
   ]
  },
  {
   "cell_type": "markdown",
   "id": "c184c1f7",
   "metadata": {},
   "source": [
    "Note that the `move_to` method does _not_\n",
    "return the moved point.  This is a common mistake!"
   ]
  },
  {
   "cell_type": "code",
   "execution_count": 10,
   "id": "9bf322a1",
   "metadata": {
    "tags": [
     "raises-exception"
    ]
   },
   "outputs": [
    {
     "name": "stdout",
     "output_type": "stream",
     "text": [
      "None\n"
     ]
    },
    {
     "ename": "AttributeError",
     "evalue": "'NoneType' object has no attribute 'x'",
     "output_type": "error",
     "traceback": [
      "\u001b[0;31m---------------------------------------------------------------------------\u001b[0m",
      "\u001b[0;31mAttributeError\u001b[0m                            Traceback (most recent call last)",
      "Cell \u001b[0;32mIn[10], line 5\u001b[0m\n\u001b[1;32m      2\u001b[0m \u001b[38;5;28mprint\u001b[39m(w)\n\u001b[1;32m      4\u001b[0m \u001b[38;5;66;03m# Attempting to access w.x or w.y will fail: \u001b[39;00m\n\u001b[0;32m----> 5\u001b[0m \u001b[38;5;28mprint\u001b[39m(\u001b[38;5;124mf\u001b[39m\u001b[38;5;124m\"\u001b[39m\u001b[38;5;124mw has x coordinate \u001b[39m\u001b[38;5;132;01m{\u001b[39;00m\u001b[43mw\u001b[49m\u001b[38;5;241;43m.\u001b[39;49m\u001b[43mx\u001b[49m\u001b[38;5;132;01m}\u001b[39;00m\u001b[38;5;124m and y coordinate \u001b[39m\u001b[38;5;132;01m{\u001b[39;00mw\u001b[38;5;241m.\u001b[39my\u001b[38;5;132;01m}\u001b[39;00m\u001b[38;5;124m\"\u001b[39m)\n",
      "\u001b[0;31mAttributeError\u001b[0m: 'NoneType' object has no attribute 'x'"
     ]
    }
   ],
   "source": [
    "w = m.move_to(19, 23)  # Oops! \n",
    "print(w)\n",
    "\n",
    "# Attempting to access w.x or w.y will fail: \n",
    "print(f\"w has x coordinate {w.x} and y coordinate {w.y}\")"
   ]
  },
  {
   "cell_type": "markdown",
   "id": "8ad93dbc",
   "metadata": {},
   "source": [
    "### What is `self`?\n",
    "\n",
    "Many people are confused by the `self` variable.  The name `self` is \n",
    "merely a convention in Python.  Conventions are important for \n",
    "readability and avoiding errors, so you should never write code \n",
    "like the following, but it may help you to see that there is really \n",
    "nothing special about `self` aside from convention."
   ]
  },
  {
   "cell_type": "code",
   "execution_count": 11,
   "id": "7ddb5eab",
   "metadata": {},
   "outputs": [
    {
     "name": "stdout",
     "output_type": "stream",
     "text": [
      "30\n"
     ]
    }
   ],
   "source": [
    "class BadExample():\n",
    "    \"\"\"An example in which we use other names instead of \"self\".\n",
    "    DON'T DO THIS ... but understand it. \n",
    "    \"\"\"\n",
    "    \n",
    "    def __init__(elephant, x: int): \n",
    "        elephant.v = x    # Might as well be consistently inconsistent\n",
    "        \n",
    "    def increase(zebra, y: int): \n",
    "        zebra.v += y\n",
    "        \n",
    "wacky = BadExample(17)\n",
    "wacky.increase(13)\n",
    "print(wacky.v)"
   ]
  },
  {
   "cell_type": "markdown",
   "id": "ea8da34d",
   "metadata": {},
   "source": [
    "As you can see, when we make a method call like `wacky.increase(13)`,\n",
    "the first argument is the object `wacky`.  We ordinarily call that \n",
    "argument `self`, not because it matters to Python, but because it \n",
    "matters to other programmers who need to read and understand our code. \n",
    "\n",
    "### *Check your understanding*\n",
    "\n",
    "Consider class `Pet` and object `my_pet`.  \n",
    "What are the *instance variables* of `my_pet`? \n",
    "What are the values of those instance variables \n",
    "after executing the code below? \n",
    "\n",
    "```python\n",
    "class Pet: \n",
    "    def __init__(self, kind: str, name: str):\n",
    "        self.species = kind\n",
    "        self.called = name\n",
    "    \n",
    "    def rename(self, new_name):\n",
    "        self.called = new_name\n",
    "\n",
    "my_pet = Pet(\"canis familiaris\", \"fido\")\n",
    "```\n",
    "\n",
    "## A little magic\n",
    "\n",
    "We said above that what we really wanted was to express \n",
    "movement of points very compactly, as addition.  We \n",
    "saw that addition of tuples or lists did not act as we \n",
    "wanted;  instead of `(3,4) + (5,6)` giving us `(8,10)`, it \n",
    "gave us `(3,4,5,6)`.  We can almost get what we want by describing \n",
    "how we want `+` to act on `Point` objects.  We do this by \n",
    "defining a *special method* `__add__`:"
   ]
  },
  {
   "cell_type": "code",
   "execution_count": 12,
   "id": "ba7d17dc",
   "metadata": {},
   "outputs": [],
   "source": [
    "class Point:\n",
    "    \"\"\"An (x,y) coordinate pair\"\"\"\n",
    "    def __init__(self, x: Number, y: Number):\n",
    "        self.x = x\n",
    "        self.y = y\n",
    "    \n",
    "    def move(self, d: \"Point\") -> \"Point\":\n",
    "        \"\"\"(x,y).move(dx,dy) = (x+dx, y+dy)\"\"\"\n",
    "        x = self.x + d.x\n",
    "        y = self.y + d.y\n",
    "        return Point(x,y)\n",
    "        \n",
    "    def move_to(self, new_x, new_y):\n",
    "        \"\"\"Change the coordinates of this Point\"\"\"\n",
    "        self.x = new_x\n",
    "        self.y = new_y\n",
    "        \n",
    "    def __add__(self, other: \"Point\"):\n",
    "        \"\"\"(x,y) + (dx, dy) = (x+dx, y+dy)\"\"\"\n",
    "        return Point(self.x + other.x, self.y + other.y)"
   ]
  },
  {
   "cell_type": "markdown",
   "id": "049c60bb",
   "metadata": {},
   "source": [
    "Special methods are more commonly known as *magic methods*. \n",
    "They allow us to define how arithmetic operations like `+` \n",
    "and `-` work for each class of object, as well as \n",
    "comparisons like `<` and `==`, and some other operations.  \n",
    "If `p` is a `Point` object, then `p + q` is interpreted as \n",
    "`p.__add__(q)`.  So finally we get a very compact and \n",
    "readable notation:"
   ]
  },
  {
   "cell_type": "code",
   "execution_count": 13,
   "id": "29cd169c",
   "metadata": {},
   "outputs": [
    {
     "name": "stdout",
     "output_type": "stream",
     "text": [
      "(8, 10)\n"
     ]
    }
   ],
   "source": [
    "p = Point(3,4)\n",
    "v = Point(5,6)\n",
    "m = p + v\n",
    "\n",
    "print(f\"({m.x}, {m.y})\")"
   ]
  },
  {
   "cell_type": "markdown",
   "id": "2a6a3a60",
   "metadata": {},
   "source": [
    "More: [Appendix on magic methods](../Appendices/appendix_Special.md)\n",
    "\n",
    "## Magic for printing\n",
    "\n",
    "Suppose we wanted to print a `Point` object.  We \n",
    "could do it with an f-string, as we have above:"
   ]
  },
  {
   "cell_type": "code",
   "execution_count": 14,
   "id": "7188e072",
   "metadata": {},
   "outputs": [
    {
     "name": "stdout",
     "output_type": "stream",
     "text": [
      "p is (3, 4)\n"
     ]
    }
   ],
   "source": [
    "print(f\"p is ({p.x}, {p.y})\")"
   ]
  },
  {
   "cell_type": "markdown",
   "id": "bae2e15b",
   "metadata": {},
   "source": [
    "That would give us a reasonable printed representation, \n",
    "like \"p is (3, 4)\", but it is tedious, verbose,  and easy to \n",
    "get wrong.  What if we just wrote"
   ]
  },
  {
   "cell_type": "code",
   "execution_count": 15,
   "id": "f70bcb95",
   "metadata": {},
   "outputs": [
    {
     "name": "stdout",
     "output_type": "stream",
     "text": [
      "p is <__main__.Point object at 0x103f2eba0>\n"
     ]
    }
   ],
   "source": [
    "print(f\"p is {p}\")"
   ]
  },
  {
   "cell_type": "markdown",
   "id": "12e33200",
   "metadata": {},
   "source": [
    "That isn't a very useful way to print an object!\n",
    "\n",
    "### `str()`d, not shaken\n",
    "\n",
    "If we want to print `Point` objects as simply \n",
    "as we print strings and numbers, but we want the \n",
    "printed representation to be readable, we will need \n",
    "to write additional methods to describe how a \n",
    "`Point` object should be converted to a string. \n",
    "\n",
    "In fact, in Python we normally write two magic \n",
    "methods for this:  `__str__` describes how it \n",
    "should be represented by the `str()` function, \n",
    "which is the representation used in `print`\n",
    "or in an f-string like `f\"it is {p}\"`. We might \n",
    "decide that we want the object created by `Point(3,2)`\n",
    "to print as \"(3, 2)\". We would then write a \n",
    "`__str__` method in the `Point` class like this:"
   ]
  },
  {
   "cell_type": "code",
   "execution_count": 16,
   "id": "750169d5",
   "metadata": {},
   "outputs": [],
   "source": [
    "class Point:\n",
    "    \"\"\"An (x,y) coordinate pair\"\"\"\n",
    "    def __init__(self, x: Number, y: Number):\n",
    "        self.x = x\n",
    "        self.y = y\n",
    "    \n",
    "    def move(self, d: \"Point\") -> \"Point\":\n",
    "        \"\"\"(x,y).move(dx,dy) = (x+dx, y+dy)\"\"\"\n",
    "        x = self.x + d.x\n",
    "        y = self.y + d.y\n",
    "        return Point(x,y)\n",
    "        \n",
    "    def move_to(self, new_x, new_y):\n",
    "        \"\"\"Change the coordinates of this Point\"\"\"\n",
    "        self.x = new_x\n",
    "        self.y = new_y\n",
    "        \n",
    "    def __add__(self, other: \"Point\"):\n",
    "        \"\"\"(x,y) + (dx, dy) = (x+dx, y+dy)\"\"\"\n",
    "        return Point(self.x + other.x, self.y + other.y)\n",
    "\n",
    "    # Two new methods, used by the \"str\" and \"repr\"\n",
    "    # functions. \n",
    "  \n",
    "    def __str__(self) -> str:\n",
    "        \"\"\"Printed representation.\n",
    "        str(p) is an implicit call to p.__str__()\n",
    "        \"\"\"\n",
    "        return f\"({self.x}, {self.y})\"\n",
    "      \n",
    "    def __repr__(self) -> str:\n",
    "        \"\"\"Debugging representation.  This is what\n",
    "        we see if we type a point name at the console.\n",
    "        \"\"\"\n",
    "        return f\"Point({self.x}, {self.y})\""
   ]
  },
  {
   "cell_type": "markdown",
   "id": "a4acabe9",
   "metadata": {},
   "source": [
    "Now if we again execute"
   ]
  },
  {
   "cell_type": "code",
   "execution_count": 17,
   "id": "00f0bf03",
   "metadata": {},
   "outputs": [
    {
     "name": "stdout",
     "output_type": "stream",
     "text": [
      "p is (17, 13)\n"
     ]
    }
   ],
   "source": [
    "p = Point(17,13)\n",
    "print(f\"p is {p}\")"
   ]
  },
  {
   "cell_type": "markdown",
   "id": "f777b305",
   "metadata": {},
   "source": [
    "we get a more useful result. \n",
    "\n",
    "\n",
    "### A `repr()` for debugging\n",
    "\n",
    "Usually we will also want to provide a different\n",
    "string representation that is useful in debugging \n",
    "and at the Python command line interface.  The \n",
    "string representation above may be fine for end users, \n",
    "but for the software developer it does not differentiate\n",
    "between a tuple `(3, 4)` and a `Point` object `(3, 4)`. \n",
    "We can define a `__repr__` method to give a string \n",
    "representation more useful in debugging.  The function \n",
    "`repr(x)` is actually a call on the `__repr__` method\n",
    "of `x`, i.e., `x.__repr__()`.  \n",
    "\n",
    "Although\n",
    "Python will permit us to write whatever `__repr__` \n",
    "method we choose, by accepted convention is to make \n",
    "it look like a call on the constructor, i.e., like \n",
    "Python code to create an identical object. Thus, for \n",
    "the `Point` class we might write: \n",
    "\n",
    "```python\n",
    "    def __repr__(self) -> str:\n",
    "        return f\"Point({self.x}, {self.y})\"\n",
    "```\n",
    "Now we can write"
   ]
  },
  {
   "cell_type": "code",
   "execution_count": 18,
   "id": "eebe66cb",
   "metadata": {},
   "outputs": [
    {
     "name": "stdout",
     "output_type": "stream",
     "text": [
      "repr(p) is Point(17, 13)\n"
     ]
    }
   ],
   "source": [
    "print(f\"repr(p) is {repr(p)}\")"
   ]
  },
  {
   "cell_type": "markdown",
   "id": "49329106",
   "metadata": {},
   "source": [
    "More often, the `repr` function is called implicitly\n",
    "when we just enter an expression at the console."
   ]
  },
  {
   "cell_type": "code",
   "execution_count": 19,
   "id": "8409701d",
   "metadata": {},
   "outputs": [
    {
     "data": {
      "text/plain": [
       "Point(25, 23)"
      ]
     },
     "execution_count": 19,
     "metadata": {},
     "output_type": "execute_result"
    }
   ],
   "source": [
    "p + m"
   ]
  },
  {
   "cell_type": "markdown",
   "id": "6c289f16",
   "metadata": {},
   "source": [
    "The `print` function automatically applies the `str` function to its \n",
    "arguments, so defining a good `__str__` method will ensure it \n",
    "is printed as you like in most cases.  Oddly, though, \n",
    "the `__str__` method for `list` applies the `__repr__` method\n",
    "to each of its arguments, which we can see by writing"
   ]
  },
  {
   "cell_type": "code",
   "execution_count": 20,
   "id": "9f610f24",
   "metadata": {},
   "outputs": [
    {
     "name": "stdout",
     "output_type": "stream",
     "text": [
      "(22, 17)\n",
      "(18, 13)\n",
      "[Point(22, 17), Point(18, 13)]\n"
     ]
    }
   ],
   "source": [
    "p = Point(22, 17)\n",
    "v = Point(18, 13)\n",
    "print(p)\n",
    "print(v)\n",
    "print([p, v])"
   ]
  },
  {
   "cell_type": "markdown",
   "id": "e114f194",
   "metadata": {},
   "source": [
    "#### *Check your understanding* \n",
    "\n",
    "Which of the following are legal, and what \n",
    "values do they return? \n",
    "\n",
    "* `str(5)`\n",
    "* `(5).str()`\n",
    "* `(5).__str__()`\n",
    "* `__str__(5)`\n",
    "* `repr([1, 2, 3])`\n",
    "* `[1, 2, 3].repr()`\n",
    "* `[1, 2, 3].__repr__()`\n",
    "\n",
    "What does the following little program print? \n",
    "\n",
    "```python\n",
    "class Wrap: \n",
    "    def __init__(self, val: str):\n",
    "        self.value = val\n",
    "\n",
    "    def __str__(self) -> str:\n",
    "        return self.value\n",
    "\n",
    "    def __repr__(self) -> str:\n",
    "        return f\"Wrap({self.value})\"\n",
    "\n",
    "a = Wrap(\"alpha\")\n",
    "b = Wrap(\"beta\")\n",
    "print([a, b])\n",
    "```\n",
    "\n",
    "## Variables *refer* to objects\n",
    "\n",
    "Before reading on, try to predict what the following\n",
    "little program will print.\n",
    "\n",
    "```python\n",
    "x = [1, 2, 3]\n",
    "y = x\n",
    "y.append(4)\n",
    "print(x)\n",
    "print(y)\n",
    "```\n",
    "\n",
    "Now execute that program.  Did you get the result you \n",
    "expected?  If it surprised you, try visualizing it in \n",
    "PythonTutor (http://pythontutor.com/).  You should get a \n",
    "diagram that looks like this: \n",
    "\n",
    "\n",
    "![](img/pythontutor-list-alias.png)\n",
    "\n",
    "`x` and `y` are distinct variables, but they are both references to the same list.   When we change `y` by appending 4, we are changing the same object \n",
    "that `x` refers to.   We say that `x` and `y` are *aliases*, two names for the same object. \n",
    "\n",
    "Note this is very different from the following: \n",
    "\n",
    "```python\n",
    "x = [1, 2, 3]\n",
    "y = [1, 2, 3]\n",
    "y.append(4)\n",
    "print(x)\n",
    "print(y)\n",
    "```\n",
    "\n",
    "Each time we create a list like `[1, 2, 3]`, we are creating a distinct \n",
    "list.  In this seocond version of the program, `x` and `y` are not \n",
    "aliases. \n",
    "\n",
    "![](img/pythontutor-list-noalias.png)\n",
    "\n",
    "It is essential to remember that variables hold *references* to objects, and \n",
    "there may be more than one reference to the same object.  We can observe the \n",
    "same phenomenon with classes we add to Python.  Consider this program:"
   ]
  },
  {
   "cell_type": "code",
   "execution_count": 21,
   "id": "ed42b008",
   "metadata": {},
   "outputs": [
    {
     "name": "stdout",
     "output_type": "stream",
     "text": [
      "(7, 9)\n"
     ]
    }
   ],
   "source": [
    "p1 = Point(3,5)\n",
    "p2 = p1\n",
    "p1.move_to(7, 9)\n",
    "print(p2)"
   ]
  },
  {
   "cell_type": "markdown",
   "id": "854c9416",
   "metadata": {},
   "source": [
    "Once again we have created two variables that are *aliases*, i.e., they \n",
    "refer to the same object.   PythonTutor illustrates: \n",
    "\n",
    "![](img/pythontutor-aliased-point.png)\n",
    "\n",
    "Note that `Point` is a reference to the *class*, while `p1` and `p2` are references to the Point *object* we created from the Point class.  When we call `p1.move`, the `move` method of class `Point` makes a change to \n",
    "the object that is referenced by both `p1` and `p2`.  We often say that \n",
    "a method like `move` *mutates* an object. \n",
    "\n",
    "There is another way we could have written a method like `move`.  \n",
    "Instead of *mutating* the object (changing the values of its *fields* \n",
    "`x` and `y`), we could have created a new Point object at the \n",
    "modified coordinates:"
   ]
  },
  {
   "cell_type": "code",
   "execution_count": 22,
   "id": "1ec175e0",
   "metadata": {},
   "outputs": [
    {
     "name": "stdout",
     "output_type": "stream",
     "text": [
      "7 9\n",
      "3 5\n"
     ]
    }
   ],
   "source": [
    "class Point:\n",
    "    \"\"\"An (x,y) coordinate pair\"\"\"\n",
    "    def __init__(self, x: int, y: int):\n",
    "        self.x = x\n",
    "        self.y = y\n",
    "\n",
    "    def moved(self, dx: int, dy: int) -> \"Point\":\n",
    "        return Point(self.x + dx, self.y + dy)\n",
    "\n",
    "p1 = Point(3,5)\n",
    "p2 = p1\n",
    "p1 = p1.moved(4,4)\n",
    "print(p1.x, p1.y)\n",
    "print(p2.x, p2.y)"
   ]
  },
  {
   "cell_type": "markdown",
   "id": "5015e8f3",
   "metadata": {},
   "source": [
    "Notice that method `moved`, unlike method `move` in the prior example, \n",
    "return a new Point object that is distinct from the Point object that was aliased.  Initially `p1` and `p2` may be aliases, after `p2 = p1`: \n",
    "\n",
    "![](img/pythontutor-point-unaliased-step1.png)\n",
    "\n",
    "But after `p1 = p1.moved(4,4)`, `p1` refers to a new, distinct object: \n",
    "\n",
    "![](img/pythontutor-point-unaliased-step2.png)\n",
    "\n",
    "As we saw with the `list` example, aiasing applies to objects \n",
    "from the built-in Python classes as well as to objects \n",
    "from the classes that you will write.  It just hasn't been \n",
    "apparent until now, because many of the built-in classes \n",
    "are *immutable*:  They do not have any methods that \n",
    "change the values stored in an object.  For example, when \n",
    "we write `3 + 5`, we are actually calling `(3).__add__(5)`; \n",
    "The `__add__` method does not change the value of `3` (that \n",
    "would be confusing!) but instead returns a new object `8`. \n",
    "\n",
    "We will write both *immutable* and *mutable* classes.  \n",
    "Aliasing of mutable objects is often a mistake, but not always. \n",
    "Later we will intentionally created aliases to access \n",
    "mutable objects.  The important thing is to be aware of it.\n",
    "\n",
    "## Combining Objects: Composing\n",
    "\n",
    "The *instance variables* defined in a class and stored \n",
    "in the objects of that class can themselves be objects. \n",
    "We can make lists of objects, tuples of objects, etc. \n",
    "\n",
    "Often we will want to create a new class with instance \n",
    "variables that are objects created from classes that \n",
    "we have previously created.  For example, if we create a \n",
    "new class `Rect` to represent rectangles, we might want\n",
    "to use `Point` objects to represent two corners of \n",
    "the rectangle:"
   ]
  },
  {
   "cell_type": "code",
   "execution_count": 23,
   "id": "cf28b7f0",
   "metadata": {
    "tags": [
     "hide-cell"
    ]
   },
   "outputs": [],
   "source": [
    "class Point:\n",
    "    \"\"\"An (x,y) coordinate pair\"\"\"\n",
    "    def __init__(self, x: Number, y: Number):\n",
    "        self.x = x\n",
    "        self.y = y\n",
    "    \n",
    "    def move(self, d: \"Point\") -> \"Point\":\n",
    "        \"\"\"(x,y).move(dx,dy) = (x+dx, y+dy)\"\"\"\n",
    "        x = self.x + d.x\n",
    "        y = self.y + d.y\n",
    "        return Point(x,y)\n",
    "        \n",
    "    def move_to(self, new_x, new_y):\n",
    "        \"\"\"Change the coordinates of this Point\"\"\"\n",
    "        self.x = new_x\n",
    "        self.y = new_y\n",
    "        \n",
    "    def __add__(self, other: \"Point\"):\n",
    "        \"\"\"(x,y) + (dx, dy) = (x+dx, y+dy)\"\"\"\n",
    "        return Point(self.x + other.x, self.y + other.y)\n",
    "\n",
    "    def __str__(self) -> str:\n",
    "        \"\"\"Printed representation.\n",
    "        str(p) is an implicit call to p.__str__()\n",
    "        \"\"\"\n",
    "        return f\"({self.x}, {self.y})\"\n",
    "      \n",
    "    def __repr__(self) -> str:\n",
    "        \"\"\"Debugging representation.  This is what\n",
    "        we see if we type a point name at the console.\n",
    "        \"\"\"\n",
    "        return f\"Point({self.x}, {self.y})\""
   ]
  },
  {
   "cell_type": "code",
   "execution_count": 24,
   "id": "7ac685ae",
   "metadata": {},
   "outputs": [
    {
     "name": "stdout",
     "output_type": "stream",
     "text": [
      "Rect((3, 5), (8, 7)) + (4, 5) => Rect((7, 10), (12, 12))\n",
      "Area of Rect((3, 5), (8, 7)) is 10\n"
     ]
    }
   ],
   "source": [
    "class Rect:\n",
    "    \"\"\"A rectangle is represented by a pair of points\n",
    "    (x_min, y_min), (x_max, y_max) at opposite corners.\n",
    "    Whether (x_min, y_min) is lower left or upper left\n",
    "    depends on the coordinate system.\n",
    "    \"\"\"\n",
    "    def __init__(self, xy_min: Point, xy_max: Point):\n",
    "        self.min_pt = xy_min\n",
    "        self.max_pt = xy_max\n",
    "    \n",
    "    def area(self) -> Number:\n",
    "        \"\"\"Area is height * width\"\"\"\n",
    "        height = self.max_pt.x - self.min_pt.x\n",
    "        width = self.max_pt.y - self.min_pt.y\n",
    "        return height * width\n",
    "\n",
    "    def translate(self, delta: Point) -> \"Rect\":\n",
    "        \"\"\"New rectangle offset from this one by delta as movement vector\"\"\"\n",
    "        return Rect(self.min_pt + delta, self.max_pt + delta)\n",
    "\n",
    "    def __repr__(self) -> str:\n",
    "        return f\"Rect({repr(self.min_pt)}, {repr(self.max_pt)}\"\n",
    "\n",
    "    def __str__(self) -> str:\n",
    "        return f\"Rect({str(self.min_pt)}, {str(self.max_pt)})\"\n",
    "\n",
    "p1 = Point(3,5)\n",
    "p2 = Point(8,7)\n",
    "r1 = Rect(p1, p2)\n",
    "mvmt = Point(4, 5)\n",
    "r2 = r1.translate(mvmt)  # Treat Point(4,5) as (dx, dy)\n",
    "print(f\"{r1} + {mvmt} => {r2}\")\n",
    "print(f\"Area of {r1} is {r1.area()}\")"
   ]
  },
  {
   "cell_type": "markdown",
   "id": "47ff3290",
   "metadata": {},
   "source": [
    "Note that the `height` and `width` are local variables \n",
    "that exist only while method `area` is executing. \n",
    "`min_pt` and `max_pt`, on the other hand, are \n",
    "*instance variables* that are stored within the \n",
    "`Rect` object.  \n",
    "\n",
    "### *Check your understanding*\n",
    "\n",
    "Suppose we ran the above code in PythonTutor. \n",
    "(PythonTutor cannot import `Number`, but for the examples we could \n",
    "replace it with `int`.)  What picture would it draw \n",
    "of `r1`?   Would `height` and `width` in method \n",
    "`area` be included as instance variables?  Why or \n",
    "why not?  \n",
    "\n",
    "\n",
    "## Wrapping and delegation\n",
    "\n",
    "Sometimes we want a class of objects that is almost\n",
    "like an existing class, but with a little extra \n",
    "information or a few new methods.  One way to do this \n",
    "is to build a new class that _wraps_ an existing class, \n",
    "often a built-in class like `list` or `dict`.  (In\n",
    "[the next chapter](02_Inheritance/02_1_Inheritance.md) we will \n",
    "see another approach.)\n",
    "\n",
    "Suppose we wanted objects that provide some of the same \n",
    "functionality as `list` objects, and also some new \n",
    "functionality or some restrictions.  For example, we \n",
    "might want a method `area` that returns the sum of \n",
    "the areas of all the `Rect` objects in the `RectList`:"
   ]
  },
  {
   "cell_type": "code",
   "execution_count": 25,
   "id": "3979e7a3",
   "metadata": {},
   "outputs": [],
   "source": [
    "class RectList:\n",
    "    \"\"\"A collection of Rects.\"\"\"\n",
    "\n",
    "    def __init__(self):\n",
    "        self.elements = [ ]\n",
    "\n",
    "    def area(self) -> Number:\n",
    "        total = 0\n",
    "        for el in self.elements:\n",
    "            total += el.area()\n",
    "        return total"
   ]
  },
  {
   "cell_type": "markdown",
   "id": "c0ec01d8",
   "metadata": {},
   "source": [
    "That seems reasonable, but how do we add `Rect` objects to the \n",
    "`Rectlist`? \n",
    "\n",
    "We do *not* want to do it this way: \n",
    "\n",
    "```python3\n",
    "li = RectList()\n",
    "# DON'T DO THIS\n",
    "li.elements.append(Rect(Point(3,3), Point(5,7)))\n",
    "li.elements.append(Rect(Point(2,2), Point(3,3)))\n",
    "```\n",
    "\n",
    "As a general rule, we should be cautious about accessing the instance \n",
    "variables of an object outside of methods of the object's class, \n",
    "and we should especially avoid modifying instance variables anywhere \n",
    "except in methods.  Code that \"breaks the abstraction\", like the example\n",
    "above calling the `append` method of the `elements` instance variable, is \n",
    "difficult to read and maintain. So we want instead to give `RectList`\n",
    "it's own `append` method, so that we can write \n",
    "\n",
    "```python3\n",
    "li = RectList()\n",
    "li.append(Rect(Point(3,3), Point(5,7)))\n",
    "li.append(Rect(Point(2,2), Point(3,3)))\n",
    "print(f\"Combined area is {li.area()}\")\n",
    "```\n",
    "  \n",
    "The `append` method can be very simple! \n",
    "\n",
    "```python\n",
    "    def append(self, item: Rect):\n",
    "        \"\"\"Delegate to elements\"\"\"\n",
    "        self.elements.append(item)\n",
    "```"
   ]
  },
  {
   "cell_type": "code",
   "execution_count": 26,
   "id": "092d0145",
   "metadata": {
    "tags": [
     "hide-cell"
    ]
   },
   "outputs": [],
   "source": [
    "class RectList:\n",
    "    \"\"\"A collection of Rects.\"\"\"\n",
    "\n",
    "    def __init__(self):\n",
    "        self.elements = [ ]\n",
    "        \n",
    "    def append(self, item: Rect):\n",
    "        \"\"\"Delegate to elements\"\"\"\n",
    "        self.elements.append(item)\n",
    "\n",
    "    def area(self) -> Number:\n",
    "        total = 0\n",
    "        for el in self.elements:\n",
    "            total += el.area()\n",
    "        return total"
   ]
  },
  {
   "cell_type": "code",
   "execution_count": 27,
   "id": "993efea0",
   "metadata": {},
   "outputs": [
    {
     "name": "stdout",
     "output_type": "stream",
     "text": [
      "Combined area is 9\n"
     ]
    }
   ],
   "source": [
    "li = RectList()\n",
    "li.append(Rect(Point(3,3), Point(5,7)))\n",
    "li.append(Rect(Point(2,2), Point(3,3)))\n",
    "print(f\"Combined area is {li.area()}\")"
   ]
  },
  {
   "cell_type": "markdown",
   "id": "b0271d80",
   "metadata": {},
   "source": [
    "We call this *delegation* because `append` method of `RectList` method  \n",
    "just hands off the work to the `append` method of class `list`.  When we \n",
    "write a *wrapper* class, we typically write several such \n",
    "trivial *delegation* methods.   \n",
    "\n",
    "Wrapping and delegation work well when we want the wrapper class \n",
    "(like `RectList` in this example) to\n",
    "have a few of the same methods as the wrapped class (`list`).  When \n",
    "we want the new collection class to have all or nearly all the methods \n",
    "of an existing collection, the *inheritance* approach introduced in the \n",
    "next chapter is more appropriate."
   ]
  }
 ],
 "metadata": {
  "jupytext": {
   "formats": "md:myst",
   "text_representation": {
    "extension": ".myst",
    "format_name": "myst",
    "format_version": 1.1,
    "jupytext_version": "1.10.3"
   }
  },
  "kernelspec": {
   "display_name": "Python 3",
   "language": "python",
   "name": "python3"
  },
  "language_info": {
   "codemirror_mode": {
    "name": "ipython",
    "version": 3
   },
   "file_extension": ".py",
   "mimetype": "text/x-python",
   "name": "python",
   "nbconvert_exporter": "python",
   "pygments_lexer": "ipython3",
   "version": "3.13.1"
  },
  "source_map": [
   13,
   42,
   51,
   60,
   72,
   82,
   84,
   89,
   91,
   95,
   99,
   127,
   137,
   159,
   171,
   188,
   194,
   207,
   228,
   233,
   241,
   251,
   266,
   302,
   323,
   333,
   339,
   348,
   350,
   356,
   358,
   379,
   415,
   419,
   422,
   452,
   454,
   458,
   460,
   468,
   474,
   552,
   557,
   573,
   588,
   627,
   664,
   698,
   732,
   744,
   781,
   800,
   805
  ]
 },
 "nbformat": 4,
 "nbformat_minor": 5
}
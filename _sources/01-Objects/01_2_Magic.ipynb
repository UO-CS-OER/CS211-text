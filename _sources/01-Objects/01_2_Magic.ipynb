{
 "cells": [
  {
   "cell_type": "markdown",
   "id": "76abe93d",
   "metadata": {},
   "source": [
    "# Magic Methods\n",
    "\n",
    "We said above that what we really wanted was to express \n",
    "movement of points very compactly, as addition.  We \n",
    "saw that addition of tuples or lists did not act as we \n",
    "wanted;  instead of `(3,4) + (5,6)` giving us `(8,10)`, it \n",
    "gave us `(3,4,5,6)`.  We can almost get what we want by describing \n",
    "how we want `+` to act on `Point` objects.  We do this by \n",
    "defining a *special method* `__add__`:"
   ]
  },
  {
   "cell_type": "code",
   "execution_count": 1,
   "id": "f8137e68",
   "metadata": {},
   "outputs": [],
   "source": [
    "from numbers import Number\n",
    "\n",
    "class Point:\n",
    "    \"\"\"An (x,y) coordinate pair\"\"\"\n",
    "    def __init__(self, x: Number, y: Number):\n",
    "        self.x = x\n",
    "        self.y = y\n",
    "    \n",
    "    def move(self, d: \"Point\") -> \"Point\":\n",
    "        \"\"\"(x,y).move(dx,dy) = (x+dx, y+dy)\"\"\"\n",
    "        x = self.x + d.x\n",
    "        y = self.y + d.y\n",
    "        return Point(x,y)\n",
    "        \n",
    "    def move_to(self, new_x, new_y):\n",
    "        \"\"\"Change the coordinates of this Point\"\"\"\n",
    "        self.x = new_x\n",
    "        self.y = new_y\n",
    "        \n",
    "    def __add__(self, other: \"Point\"):\n",
    "        \"\"\"(x,y) + (dx, dy) = (x+dx, y+dy)\"\"\"\n",
    "        return Point(self.x + other.x, self.y + other.y)"
   ]
  },
  {
   "cell_type": "markdown",
   "id": "33d5de9c",
   "metadata": {},
   "source": [
    "Special methods are more commonly known as *magic methods*. \n",
    "They allow us to define how arithmetic operations like `+` \n",
    "and `-` work for each class of object, as well as \n",
    "comparisons like `<` and `==`, and some other operations.  \n",
    "If `p` is a `Point` object, then `p + q` is interpreted as \n",
    "`p.__add__(q)`.  So finally we get a very compact and \n",
    "readable notation:"
   ]
  },
  {
   "cell_type": "code",
   "execution_count": 2,
   "id": "5fe68e4c",
   "metadata": {},
   "outputs": [
    {
     "name": "stdout",
     "output_type": "stream",
     "text": [
      "(8, 10)\n"
     ]
    }
   ],
   "source": [
    "p = Point(3,4)\n",
    "v = Point(5,6)\n",
    "m = p + v\n",
    "\n",
    "print(f\"({m.x}, {m.y})\")"
   ]
  },
  {
   "cell_type": "markdown",
   "id": "4407b435",
   "metadata": {},
   "source": [
    "## Magic for printing\n",
    "\n",
    "Suppose we wanted to print a `Point` object.  We \n",
    "could do it with an f-string, as we have above:"
   ]
  },
  {
   "cell_type": "code",
   "execution_count": 3,
   "id": "fd645162",
   "metadata": {},
   "outputs": [
    {
     "name": "stdout",
     "output_type": "stream",
     "text": [
      "p is (3, 4)\n"
     ]
    }
   ],
   "source": [
    "print(f\"p is ({p.x}, {p.y})\")"
   ]
  },
  {
   "cell_type": "markdown",
   "id": "6cd9c08c",
   "metadata": {},
   "source": [
    "That would give us a reasonable printed representation, \n",
    "like \"p is (3, 4)\", but it is tedious, verbose,  and easy to \n",
    "get wrong.  What if we just wrote"
   ]
  },
  {
   "cell_type": "code",
   "execution_count": 4,
   "id": "15dad8ed",
   "metadata": {},
   "outputs": [
    {
     "name": "stdout",
     "output_type": "stream",
     "text": [
      "p is <__main__.Point object at 0x1055dc050>\n"
     ]
    }
   ],
   "source": [
    "print(f\"p is {p}\")"
   ]
  },
  {
   "cell_type": "markdown",
   "id": "7b7c2a39",
   "metadata": {},
   "source": [
    "That isn't a very useful way to print an object!\n",
    "\n",
    "### `str()`d, not shaken\n",
    "\n",
    "If we want to print `Point` objects as simply \n",
    "as we print strings and numbers, but we want the \n",
    "printed representation to be readable, we will need \n",
    "to write additional methods to describe how a \n",
    "`Point` object should be converted to a string. \n",
    "\n",
    "In fact, in Python we normally write two magic \n",
    "methods for this:  `__str__` describes how it \n",
    "should be represented by the `str()` function, \n",
    "which is the representation used in `print`\n",
    "or in an f-string like `f\"it is {p}\"`. We might \n",
    "decide that we want the object created by `Point(3,2)`\n",
    "to print as \"(3, 2)\". We would then write a \n",
    "`__str__` method in the `Point` class like this:"
   ]
  },
  {
   "cell_type": "code",
   "execution_count": 5,
   "id": "8ad4632a",
   "metadata": {},
   "outputs": [],
   "source": [
    "class Point:\n",
    "    \"\"\"An (x,y) coordinate pair\"\"\"\n",
    "    def __init__(self, x: Number, y: Number):\n",
    "        self.x = x\n",
    "        self.y = y\n",
    "    \n",
    "    def move(self, d: \"Point\") -> \"Point\":\n",
    "        \"\"\"(x,y).move(dx,dy) = (x+dx, y+dy)\"\"\"\n",
    "        x = self.x + d.x\n",
    "        y = self.y + d.y\n",
    "        return Point(x,y)\n",
    "        \n",
    "    def move_to(self, new_x, new_y):\n",
    "        \"\"\"Change the coordinates of this Point\"\"\"\n",
    "        self.x = new_x\n",
    "        self.y = new_y\n",
    "        \n",
    "    def __add__(self, other: \"Point\"):\n",
    "        \"\"\"(x,y) + (dx, dy) = (x+dx, y+dy)\"\"\"\n",
    "        return Point(self.x + other.x, self.y + other.y)\n",
    "\n",
    "    # Two new methods, used by the \"str\" and \"repr\"\n",
    "    # functions. \n",
    "  \n",
    "    def __str__(self) -> str:\n",
    "        \"\"\"Printed representation.\n",
    "        str(p) is an implicit call to p.__str__()\n",
    "        \"\"\"\n",
    "        return f\"({self.x}, {self.y})\"\n",
    "      \n",
    "    def __repr__(self) -> str:\n",
    "        \"\"\"Debugging representation.  This is what\n",
    "        we see if we type a point name at the console.\n",
    "        \"\"\"\n",
    "        return f\"Point({self.x}, {self.y})\""
   ]
  },
  {
   "cell_type": "markdown",
   "id": "da885693",
   "metadata": {},
   "source": [
    "Now if we again execute"
   ]
  },
  {
   "cell_type": "code",
   "execution_count": 6,
   "id": "5c148e22",
   "metadata": {},
   "outputs": [
    {
     "name": "stdout",
     "output_type": "stream",
     "text": [
      "p is (17, 13)\n"
     ]
    }
   ],
   "source": [
    "p = Point(17,13)\n",
    "print(f\"p is {p}\")"
   ]
  },
  {
   "cell_type": "markdown",
   "id": "c6137cb2",
   "metadata": {},
   "source": [
    "we get a more useful result. \n",
    "\n",
    "\n",
    "### A `repr()` for debugging\n",
    "\n",
    "Usually we will also want to provide a different\n",
    "string representation that is useful in debugging \n",
    "and at the Python command line interface.  The \n",
    "string representation above may be fine for end users, \n",
    "but for the software developer it does not differentiate\n",
    "between a tuple `(3, 4)` and a `Point` object `(3, 4)`. \n",
    "We can define a `__repr__` method to give a string \n",
    "representation more useful in debugging.  The function \n",
    "`repr(x)` is actually a call on the `__repr__` method\n",
    "of `x`, i.e., `x.__repr__()`.  \n",
    "\n",
    "Although\n",
    "Python will permit us to write whatever `__repr__` \n",
    "method we choose, by accepted convention is to make \n",
    "it look like a call on the constructor, i.e., like \n",
    "Python code to create an identical object. Thus, for \n",
    "the `Point` class we might write: \n",
    "\n",
    "```python\n",
    "    def __repr__(self) -> str:\n",
    "        return f\"Point({self.x}, {self.y})\"\n",
    "```\n",
    "Now we can write"
   ]
  },
  {
   "cell_type": "code",
   "execution_count": 7,
   "id": "fb28f8ba",
   "metadata": {},
   "outputs": [
    {
     "name": "stdout",
     "output_type": "stream",
     "text": [
      "repr(p) is Point(17, 13)\n"
     ]
    }
   ],
   "source": [
    "print(f\"repr(p) is {repr(p)}\")"
   ]
  },
  {
   "cell_type": "markdown",
   "id": "0b3eafb9",
   "metadata": {},
   "source": [
    "More often, the `repr` function is called implicitly\n",
    "when we just enter an expression at the console."
   ]
  },
  {
   "cell_type": "code",
   "execution_count": 8,
   "id": "e0015b07",
   "metadata": {},
   "outputs": [
    {
     "data": {
      "text/plain": [
       "Point(25, 23)"
      ]
     },
     "execution_count": 8,
     "metadata": {},
     "output_type": "execute_result"
    }
   ],
   "source": [
    "p + m"
   ]
  },
  {
   "cell_type": "markdown",
   "id": "93b4139e",
   "metadata": {},
   "source": [
    "The `print` function automatically applies the `str` function to its \n",
    "arguments, so defining a good `__str__` method will ensure it \n",
    "is printed as you like in most cases.  Oddly, though, \n",
    "the `__str__` method for `list` applies the `__repr__` method\n",
    "to each of its arguments, which we can see by writing"
   ]
  },
  {
   "cell_type": "code",
   "execution_count": 9,
   "id": "2622ee9c",
   "metadata": {},
   "outputs": [
    {
     "name": "stdout",
     "output_type": "stream",
     "text": [
      "(22, 17)\n",
      "(18, 13)\n",
      "[Point(22, 17), Point(18, 13)]\n"
     ]
    }
   ],
   "source": [
    "p = Point(22, 17)\n",
    "v = Point(18, 13)\n",
    "print(p)\n",
    "print(v)\n",
    "print([p, v])"
   ]
  },
  {
   "cell_type": "markdown",
   "id": "1ce97dca",
   "metadata": {},
   "source": [
    "#### *Check your understanding* \n",
    "\n",
    "Which of the following are legal, and what \n",
    "values do they return? \n",
    "\n",
    "* `str(5)`\n",
    "* `(5).str()`\n",
    "* `(5).__str__()`\n",
    "* `__str__(5)`\n",
    "* `repr([1, 2, 3])`\n",
    "* `[1, 2, 3].repr()`\n",
    "* `[1, 2, 3].__repr__()`\n",
    "\n",
    "What does the following little program print? \n",
    "\n",
    "```python\n",
    "class Wrap: \n",
    "    def __init__(self, val: str):\n",
    "        self.value = val\n",
    "\n",
    "    def __str__(self) -> str:\n",
    "        return self.value\n",
    "\n",
    "    def __repr__(self) -> str:\n",
    "        return f\"Wrap({self.value})\"\n",
    "\n",
    "a = Wrap(\"alpha\")\n",
    "b = Wrap(\"beta\")\n",
    "print([a, b])\n",
    "```\n",
    "\n",
    "## Comparisons\n",
    "\n",
    "We saw that defining a `__add__` _magic method_ allowed us to write\n",
    "`p + q` in a compact and natural way by interpreting `p + q` as\n",
    "`p.__add__(q)`.  Each of the common arithmetic operations (`+`, `-`, \n",
    "`*`, `/`) can be defined by magic methods, as well as several that \n",
    "are not so common outside programming like `+=` and `//`.  \n",
    "\n",
    "Python \n",
    "permits you to magic methods as you see fit.  You might think that \n",
    "any sensible definition of `+` would have the property that \n",
    "`(a + b) == (b + a)` (commutativity of addition), but you can easily \n",
    "define an `__add__` method that does not have this property.  \n",
    "There are \n",
    "many useful mathematical objects that do not share all the familiar \n",
    "properties of operations on real numbers, so Python gives us freedom \n",
    "(and responsibility) to define operations in whatever way makes sense\n",
    "for the class of objects we wish to represent.\n",
    "\n",
    "The relation between operations is particularly significant for \n",
    "comparisons.  Python lets you define magic methods for `<`, `<=`, \n",
    "`==`, `>=`, and `>`.  Each of these is independent of the others.  \n",
    "You could write a `__lt__` method for `<` and a `__gt__` method for \n",
    "`>` such that `(a > b) and (a < b)` could be `True`.  That would be \n",
    "a very bad idea, but Python wouldn't stop you.   The only connection \n",
    "between comparisons that Python provides by default is that `a != b` \n",
    "implemented by evaluating `a == b` and then flipping the result from\n",
    "`True` to `False` or vice versa. \n",
    "\n",
    "Typically you will want some systematic relations among the \n",
    "comparison methods, and often those relations will mirror \n",
    "the way comparisons of numbers work. For example, you might typically\n",
    "want `a < b` to be equivalent to `b > a`.  Also you \n",
    "won't want to bloat your code by \n",
    "defining each comparison \n",
    "magic method entirely independently.  You can reduce duplication \n",
    "(and opportunity for error) by defining a minimum number of basic \n",
    "comparisons, and then defining other comparisons in terms of those \n",
    "basic operations. \n",
    "\n",
    "Consider for example a class for rectangles in which, for some \n",
    "reason, we have decided that `>` should mean \"bigger than\". It would \n",
    "be sensible for this ordering to have the same properties as \n",
    "ordering among real numbers, such as for example `a >= b` being true \n",
    "if either `a > b` or `a == b`.  We could then define a rectangle \n",
    "class with just two basic comparisons (let's call them the _root_ \n",
    "comparisons), and the rest derived from them."
   ]
  },
  {
   "cell_type": "code",
   "execution_count": 10,
   "id": "17b46311",
   "metadata": {},
   "outputs": [],
   "source": [
    "class Point:\n",
    "    \"\"\"An (x,y) coordinate pair\"\"\"\n",
    "    def __init__(self, x: Number, y: Number):\n",
    "        self.x = x\n",
    "        self.y = y\n",
    "\n",
    "class Rect:\n",
    "    \"\"\"A rectangle defined by its lower-left and upper-right corners\"\"\"\n",
    "\n",
    "    def __init__(self, p1: Point, p2: Point):\n",
    "        \"\"\"Represented by lower left and upper right corners,\n",
    "        which might differ from p1 and p2 (e.g., if p1 is above and\n",
    "        to the right of p2).\n",
    "        \"\"\"\n",
    "        self._ll = Point(min(p1.x, p2.x), min(p1.y, p2.y))\n",
    "        self._ur = Point(max(p1.x, p2.x), max(p1.y, p2.y))\n",
    "\n",
    "    def width(self) -> Number:\n",
    "        return self._ur.x - self._ll.x\n",
    "\n",
    "    def height(self) -> Number:\n",
    "        return self._ur.y - self._ll.y\n",
    "\n",
    "    def area(self) -> Number:\n",
    "        return self.width() * self.height()\n",
    "\n",
    "    # Let's define \"greater than\" as \"bigger than\", giving a total ordering\n",
    "    # on rectangles by size.\n",
    "    # (This is probably a bad idea, but we'll use it rather than\n",
    "    # starting a new example from scratch.)\n",
    "\n",
    "    ####\n",
    "    # Root comparisons <, ==\n",
    "    ####\n",
    "\n",
    "    def __lt__(self, other: 'Rect') -> bool:\n",
    "        \"Order rectangles by size\"\n",
    "        return (self.area() < other.area())\n",
    "\n",
    "    def __eq__(self, other: 'Rect') -> bool:\n",
    "        return (self.area() == other.area())\n",
    "\n",
    "    ####\n",
    "    # Derived comparisons delegate to root comparisons\n",
    "    # Each makes calls to a magic method for root comparisons\n",
    "    ####\n",
    "\n",
    "    def __gt__(self, other: 'Rect') -> bool:\n",
    "        return other < self\n",
    "\n",
    "    def __ge__(self, other: 'Rect') -> bool:\n",
    "        return not (self < other)\n",
    "\n",
    "    def __le__(self, other: 'Rect') -> bool:\n",
    "        return  self < other or self == other\n",
    "        \n",
    "r1 = Rect(Point(1,1), Point(3,3))   # 2x2 rect area = 4\n",
    "r2 = Rect(Point(2, 2), Point(4, 4)) # 2x2 rect area = 4\n",
    "r3 = Rect(Point(4,0), Point(5, 2))  # 1x2 rect area = 2"
   ]
  },
  {
   "cell_type": "markdown",
   "id": "23dc4424",
   "metadata": {},
   "source": [
    "![Example rectangles for checking ordering by size](\n",
    "img/rects_order.svg\n",
    "\"Diagram of rectangles r1, r2, r3 defined just above\"\n",
    ")"
   ]
  },
  {
   "cell_type": "code",
   "execution_count": 11,
   "id": "8d6d9048",
   "metadata": {},
   "outputs": [
    {
     "name": "stdout",
     "output_type": "stream",
     "text": [
      "Passed some sanity checks for ordering of rectangles by size\n"
     ]
    }
   ],
   "source": [
    "# Sanity checks on comparisons defined above\n",
    "assert r1 == r2   # Same size\n",
    "assert r1 != r3   # this is (not r1.__eq__(r2))\n",
    "assert r1 > r3    # r1 is bigger\n",
    "assert r3 < r1    # r1 is bigger\n",
    "assert r1 >= r2   # a == b implies a >= b\n",
    "assert r1 >= r3   # a > b implies a >= b\n",
    "assert r1 <= r2   # a == b implies a <= b\n",
    "assert r3 <= r1   # a < b implies a <= b\n",
    "print(\"Passed some sanity checks for ordering of rectangles by size\")"
   ]
  },
  {
   "cell_type": "markdown",
   "id": "5e7319dc",
   "metadata": {},
   "source": [
    "In this example I chose `<` and `==` as the root comparisons, but \n",
    "other choices could work as well.  If we assume that every rectangle \n",
    "is either less than, greater than, or equal to any other rectangle\n",
    "(in mathematical terms, if rectangles are _totally ordered_), \n",
    "we could even have gotten away with a single root comparison and \n",
    "derived `a == b` as `not ((a < b) or (a > b))`, but it would not \n",
    "have simplified our code.  \n",
    "\n",
    "## More Magic\n",
    "\n",
    "A more complete list of operations and built-in functions\n",
    "that are delegated to special (magic) methods is provided\n",
    "in [an appendix](../Appendices/appendix_Special.md). \n",
    "\n",
    "A [comprehensive description of special methods](\n",
    "https://docs.python.org/3/reference/datamodel.html#special-method-names)\n",
    "can be found in the Python language reference.  The comprehensive\n",
    "description is dense reading and assumes familiarity with many\n",
    "concepts that will not typically be within the experience of \n",
    "beginning Python programmers.  You may want to glance at it now, but \n",
    "don't expect to understand much of it yet.\n",
    "It is the definitive reference to \n",
    "use sometime later in your career when you are building\n",
    "infrastructure for your developer community, or perhaps considering \n",
    "how to incorporate similar facilities in a new programming language."
   ]
  }
 ],
 "metadata": {
  "jupytext": {
   "formats": "md:myst",
   "text_representation": {
    "extension": ".myst",
    "format_name": "myst",
    "format_version": 1.1,
    "jupytext_version": "1.10.3"
   }
  },
  "kernelspec": {
   "display_name": "Python 3",
   "language": "python",
   "name": "python3"
  },
  "language_info": {
   "codemirror_mode": {
    "name": "ipython",
    "version": 3
   },
   "file_extension": ".py",
   "mimetype": "text/x-python",
   "name": "python",
   "nbconvert_exporter": "python",
   "pygments_lexer": "ipython3",
   "version": "3.13.5"
  },
  "source_map": [
   13,
   25,
   48,
   58,
   64,
   71,
   73,
   79,
   81,
   102,
   138,
   142,
   145,
   175,
   177,
   181,
   183,
   191,
   197,
   279,
   339,
   345,
   356
  ]
 },
 "nbformat": 4,
 "nbformat_minor": 5
}
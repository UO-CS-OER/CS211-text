{
 "cells": [
  {
   "cell_type": "markdown",
   "id": "3933f2f4",
   "metadata": {},
   "source": [
    "# Project:  Multi-Word Anagrams\n",
    "\n",
    "In the [multi-word anagram project](\n",
    "https://github.com/UO-CIS211/Anagrams) we want to find possible \n",
    "anagrams of\n",
    "words and phrases, including phrases of more than\n",
    "one word.  For example, if we search for anagrams\n",
    "of \"computer science\", we should find that\n",
    "\"eccentric mop use\" and \"secret income cup\" are\n",
    "among the possible anagrams.\n",
    "\n",
    "In a [prior project](https://github.com/UO-CS210/jumbler)\n",
    "we used a trick to find single word anagrams:  A word and\n",
    "each of its single-word anagrams are identical when _normalized_ by\n",
    "listing its letters in alphabetical order.  This made it\n",
    "possible to compare a normalized version of a jumbled word\n",
    "with the normalized version of each word in a word list. \n",
    "\n",
    "This normalization trick is not sufficient for finding\n",
    "anagrams that are made of multiple words.  In this project\n",
    "we will build a multi-word anagram finder using\n",
    "a recursive algorithm and\n",
    "a Python class for a _bag_ (also called a _multiset_) of\n",
    "letters. \n",
    "\n",
    "## Learning objectives\n",
    "\n",
    "The primary learning objectives of this project are\n",
    "advancing your grasp of\n",
    "\n",
    "- Python classes and objects. You will construct a moderately\n",
    "  complex class (`LetterBag`) that records the letters that\n",
    "  are available and must be used to complete an anagram. \n",
    "- Recursive search. Each time we find a word that _could_ be\n",
    "  included in an anagram, we will consider two possibilities:\n",
    "  We could include that word, or we could omit it and use the\n",
    "  letters in a different way.  One of these possibilities will\n",
    "  be explored with a recursive call.\n",
    "- Aliasing.  Because our search considers multiple ways \n",
    "  to complete a multi-word anagram, we must be careful to avoid \n",
    "  accidentally changing a partial solution that is being considered \n",
    "  on a different branch.  We have considered aliasing in prior \n",
    "  projects; what is new here is aliasing of instances variables in \n",
    "  user-written classes. \n",
    "\n",
    "You got some practice in creating classes, methods, and \n",
    "objects in our initial [Agenda](https://github.com/UO-CIS211/Agenda)\n",
    "project. The [Anagrams](https://github.com/UO-CIS211/Anagrams) \n",
    "builds on that experience with a more complex project, so that you \n",
    "have a solid understanding of classes and objects before we \n",
    "complicate things further with subclassing and inheritance in the \n",
    "next chapter and projects."
   ]
  }
 ],
 "metadata": {
  "jupytext": {
   "formats": "md:myst",
   "text_representation": {
    "extension": ".myst",
    "format_name": "myst",
    "format_version": 1.1,
    "jupytext_version": "1.10.3"
   }
  },
  "kernelspec": {
   "display_name": "Python 3",
   "language": "python",
   "name": "python3"
  },
  "language_info": {
   "codemirror_mode": {
    "name": "ipython",
    "version": 3
   },
   "file_extension": ".py",
   "mimetype": "text/x-python",
   "name": "python",
   "nbconvert_exporter": "python",
   "pygments_lexer": "ipython3",
   "version": "3.13.1"
  },
  "source_map": [
   13
  ]
 },
 "nbformat": 4,
 "nbformat_minor": 5
}
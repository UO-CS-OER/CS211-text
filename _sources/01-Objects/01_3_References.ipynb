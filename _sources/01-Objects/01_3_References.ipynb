{
 "cells": [
  {
   "cell_type": "markdown",
   "id": "ac75fa60",
   "metadata": {},
   "source": [
    "# References to Objects\n",
    "\n",
    "In this section we will continue to refer to the `Point`\n",
    "class created in\n",
    "[the introductory section](\n",
    "01_1_Objects.md\n",
    ")."
   ]
  },
  {
   "cell_type": "code",
   "execution_count": 1,
   "id": "2cdf3040",
   "metadata": {
    "tags": [
     "hide-cell"
    ]
   },
   "outputs": [],
   "source": [
    "from numbers import Number\n",
    "\n",
    "class Point:\n",
    "    \"\"\"An (x,y) coordinate pair\"\"\"\n",
    "    def __init__(self, x: Number, y: Number):\n",
    "        self.x = x\n",
    "        self.y = y\n",
    "    \n",
    "    def move(self, d: \"Point\") -> \"Point\":\n",
    "        \"\"\"(x,y).move(dx,dy) = (x+dx, y+dy)\"\"\"\n",
    "        x = self.x + d.x\n",
    "        y = self.y + d.y\n",
    "        return Point(x,y)\n",
    "        \n",
    "    def move_to(self, new_x, new_y):\n",
    "        \"\"\"Change the coordinates of this Point\"\"\"\n",
    "        self.x = new_x\n",
    "        self.y = new_y\n",
    "        \n",
    "    def __add__(self, other: \"Point\"):\n",
    "        \"\"\"(x,y) + (dx, dy) = (x+dx, y+dy)\"\"\"\n",
    "        return Point(self.x + other.x, self.y + other.y)\n",
    "\n",
    "    def __str__(self) -> str:\n",
    "        \"\"\"Printed representation.\n",
    "        str(p) is an implicit call to p.__str__()\n",
    "        \"\"\"\n",
    "        return f\"({self.x}, {self.y})\"\n",
    "      \n",
    "    def __repr__(self) -> str:\n",
    "        \"\"\"Debugging representation.  This is what\n",
    "        we see if we type a point name at the console.\n",
    "        \"\"\"\n",
    "        return f\"Point({self.x}, {self.y})\""
   ]
  },
  {
   "cell_type": "markdown",
   "id": "8a3f8fff",
   "metadata": {},
   "source": [
    "## Variables *refer* to objects\n",
    "\n",
    "Before reading on, try to predict what the following\n",
    "little program will print.\n",
    "\n",
    "```python\n",
    "x = [1, 2, 3]\n",
    "y = x\n",
    "y.append(4)\n",
    "print(x)\n",
    "print(y)\n",
    "```\n",
    "\n",
    "Now execute that program.  Did you get the result you \n",
    "expected?  If it surprised you, try visualizing it in \n",
    "PythonTutor (http://pythontutor.com/).  You should get a \n",
    "diagram that looks like this: \n",
    "\n",
    "\n",
    "![Python tutor illustrating alias references](\n",
    "img/pythontutor-list-alias.png)\n",
    "\n",
    "`x` and `y` are distinct variables, but they are both references to\n",
    "the same list.   When we change `y` by appending 4, we are changing the\n",
    "same object that `x` refers to.   We say that `x` and `y` are *aliases*,\n",
    "two names for the same object. \n",
    "\n",
    "Note this is very different from the following: \n",
    "\n",
    "```python\n",
    "x = [1, 2, 3]\n",
    "y = [1, 2, 3]\n",
    "y.append(4)\n",
    "print(x)\n",
    "print(y)\n",
    "```\n",
    "\n",
    "Each time we create a list like `[1, 2, 3]`, we are creating a distinct \n",
    "list.  In this seocond version of the program, `x` and `y` are not \n",
    "aliases. \n",
    "\n",
    "![Distinct lists in Python Tutor](img/pythontutor-list-noalias.png)\n",
    "\n",
    "It is essential to remember that variables hold *references* to objects, and \n",
    "there may be more than one reference to the same object.  We can observe the \n",
    "same phenomenon with classes we add to Python.  Consider this program:"
   ]
  },
  {
   "cell_type": "code",
   "execution_count": 2,
   "id": "2323322b",
   "metadata": {},
   "outputs": [
    {
     "name": "stdout",
     "output_type": "stream",
     "text": [
      "(7, 9)\n"
     ]
    }
   ],
   "source": [
    "p1 = Point(3,5)\n",
    "p2 = p1\n",
    "p1.move_to(7, 9)\n",
    "print(p2)"
   ]
  },
  {
   "cell_type": "markdown",
   "id": "a5872ade",
   "metadata": {},
   "source": [
    "Once again we have created two variables that are *aliases*, i.e., they \n",
    "refer to the same object.   PythonTutor illustrates: \n",
    "\n",
    "![Aliased point in Python Tutor](img/pythontutor-aliased-point.png)\n",
    "\n",
    "Note that `Point` is a reference to the *class*, while `p1` and `p2` are\n",
    "references to the Point *object* we created from the Point class.  When\n",
    "we call `p1.move`, the `move` method of class `Point` makes a change to \n",
    "the object that is referenced by both `p1` and `p2`.  We say that \n",
    "a method like `move` *mutates* an object. \n",
    "\n",
    "## Mutable and Immutable\n",
    "\n",
    "There is another way we could have written a method like `move`.\n",
    "Instead of *mutating* the object (changing the values of its *fields* \n",
    "`x` and `y`), we could have created a new `Point` object at the \n",
    "adjusted coordinates:"
   ]
  },
  {
   "cell_type": "code",
   "execution_count": 3,
   "id": "b74edb89",
   "metadata": {},
   "outputs": [
    {
     "name": "stdout",
     "output_type": "stream",
     "text": [
      "7 9\n",
      "3 5\n"
     ]
    }
   ],
   "source": [
    "class Point:\n",
    "    \"\"\"An (x,y) coordinate pair\"\"\"\n",
    "    def __init__(self, x: int, y: int):\n",
    "        self.x = x\n",
    "        self.y = y\n",
    "\n",
    "    def moved(self, dx: int, dy: int) -> \"Point\":\n",
    "        return Point(self.x + dx, self.y + dy)\n",
    "\n",
    "p1 = Point(3,5)\n",
    "p2 = p1\n",
    "p1 = p1.moved(4,4)\n",
    "print(p1.x, p1.y)\n",
    "print(p2.x, p2.y)"
   ]
  },
  {
   "cell_type": "markdown",
   "id": "56634e46",
   "metadata": {},
   "source": [
    "Notice that method `moved`, unlike method `move` in the prior example, \n",
    "return a new `Point` object that is distinct from the `Point` object that\n",
    "was aliased.  Initially `p1` and `p2` may be aliases, after `p2 = p1`: \n",
    "\n",
    "![Points aliased](img/pythontutor-point-unaliased-step1.png)\n",
    "\n",
    "But after `p1 = p1.moved(4,4)`, `p1` refers to a new, distinct object: \n",
    "\n",
    "![New distinct point](img/pythontutor-point-unaliased-step2.png)\n",
    "\n",
    "As we saw with the `list` example, aliasing applies to objects \n",
    "from the built-in Python classes as well as to objects \n",
    "from the classes that you will write.  It just hasn't been \n",
    "apparent until now, because many of the built-in classes \n",
    "are *immutable*:  They do not have any methods that \n",
    "change the values stored in an object.  For example, when \n",
    "we write `3 + 5`, we are actually calling `(3).__add__(5)`; \n",
    "The `__add__` method does not change the value of `3` (that \n",
    "would be confusing!) but instead returns a new object `8`. \n",
    "\n",
    "\n",
    "It is typically easier to reason about the behavior of *immutable* \n",
    "classes. On the other hand, it may be more efficient to *mutate* \n",
    "an object than to return a new object with a small change. \n",
    "Many of Python's built-in classes, like `str` and `int`, are\n",
    "_immutable_ to make reasoning easier. \n",
    "Most of Python's built-in collection classes, like `list` and \n",
    "`dict`, are _mutable_ for the sake of efficiency. \n",
    "We will write both *immutable* classes and *mutable* classes, \n",
    "depending on our needs, with a preference for *immutable* classes\n",
    "where extra cost is inconsequential. \n",
    "\n",
    "Aliasing mutable objects is often a mistake, but not always.\n",
    "Later we will intentionally create aliases to access \n",
    "mutable objects.  The important thing is to be aware of aliasing and\n",
    "mutation."
   ]
  }
 ],
 "metadata": {
  "jupytext": {
   "formats": "md:myst",
   "text_representation": {
    "extension": ".myst",
    "format_name": "myst",
    "format_version": 1.1,
    "jupytext_version": "1.10.3"
   }
  },
  "kernelspec": {
   "display_name": "Python 3",
   "language": "python",
   "name": "python3"
  },
  "language_info": {
   "codemirror_mode": {
    "name": "ipython",
    "version": 3
   },
   "file_extension": ".py",
   "mimetype": "text/x-python",
   "name": "python",
   "nbconvert_exporter": "python",
   "pygments_lexer": "ipython3",
   "version": "3.13.1"
  },
  "source_map": [
   13,
   24,
   60,
   109,
   114,
   134,
   149
  ]
 },
 "nbformat": 4,
 "nbformat_minor": 5
}
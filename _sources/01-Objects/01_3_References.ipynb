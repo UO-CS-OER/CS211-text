{
 "cells": [
  {
   "cell_type": "markdown",
   "id": "8bfdf021",
   "metadata": {},
   "source": [
    "# References to Objects\n",
    "\n",
    "## Variables *refer* to objects\n",
    "\n",
    "Before reading on, try to predict what the following\n",
    "little program will print.\n",
    "\n",
    "```python\n",
    "x = [1, 2, 3]\n",
    "y = x\n",
    "y.append(4)\n",
    "print(x)\n",
    "print(y)\n",
    "```\n",
    "\n",
    "Now execute that program.  Did you get the result you \n",
    "expected?  If it surprised you, try visualizing it in \n",
    "PythonTutor (http://pythontutor.com/).  You should get a \n",
    "diagram that looks like this: \n",
    "\n",
    "\n",
    "![Python tutor illustrating alias references](\n",
    "img/pythontutor-list-alias.png)\n",
    "\n",
    "`x` and `y` are distinct variables, but they are both references to\n",
    "the same list.   When we change `y` by appending 4, we are changing the\n",
    "same object that `x` refers to.   We say that `x` and `y` are *aliases*,\n",
    "two names for the same object. \n",
    "\n",
    "Note this is very different from the following: \n",
    "\n",
    "```python\n",
    "x = [1, 2, 3]\n",
    "y = [1, 2, 3]\n",
    "y.append(4)\n",
    "print(x)\n",
    "print(y)\n",
    "```\n",
    "\n",
    "Each time we create a list like `[1, 2, 3]`, we are creating a distinct \n",
    "list.  In this seocond version of the program, `x` and `y` are not \n",
    "aliases. \n",
    "\n",
    "![Distinct lists in Python Tutor](img/pythontutor-list-noalias.png)\n",
    "\n",
    "It is essential to remember that variables hold *references* to objects, and \n",
    "there may be more than one reference to the same object.  We can observe the \n",
    "same phenomenon with classes we add to Python.  Consider this program:"
   ]
  },
  {
   "cell_type": "code",
   "execution_count": 1,
   "id": "389deddb",
   "metadata": {},
   "outputs": [
    {
     "ename": "NameError",
     "evalue": "name 'Point' is not defined",
     "output_type": "error",
     "traceback": [
      "\u001b[0;31m---------------------------------------------------------------------------\u001b[0m",
      "\u001b[0;31mNameError\u001b[0m                                 Traceback (most recent call last)",
      "Cell \u001b[0;32mIn[1], line 1\u001b[0m\n\u001b[0;32m----> 1\u001b[0m p1 \u001b[38;5;241m=\u001b[39m \u001b[43mPoint\u001b[49m(\u001b[38;5;241m3\u001b[39m,\u001b[38;5;241m5\u001b[39m)\n\u001b[1;32m      2\u001b[0m p2 \u001b[38;5;241m=\u001b[39m p1\n\u001b[1;32m      3\u001b[0m p1\u001b[38;5;241m.\u001b[39mmove_to(\u001b[38;5;241m7\u001b[39m, \u001b[38;5;241m9\u001b[39m)\n",
      "\u001b[0;31mNameError\u001b[0m: name 'Point' is not defined"
     ]
    }
   ],
   "source": [
    "p1 = Point(3,5)\n",
    "p2 = p1\n",
    "p1.move_to(7, 9)\n",
    "print(p2)"
   ]
  },
  {
   "cell_type": "markdown",
   "id": "c46ecd27",
   "metadata": {},
   "source": [
    "Once again we have created two variables that are *aliases*, i.e., they \n",
    "refer to the same object.   PythonTutor illustrates: \n",
    "\n",
    "![Aliased point in Python Tutor](img/pythontutor-aliased-point.png)\n",
    "\n",
    "Note that `Point` is a reference to the *class*, while `p1` and `p2` are\n",
    "references to the Point *object* we created from the Point class.  When\n",
    "we call `p1.move`, the `move` method of class `Point` makes a change to \n",
    "the object that is referenced by both `p1` and `p2`.  We often say that \n",
    "a method like `move` *mutates* an object. \n",
    "\n",
    "## Mutable and Immutable\n",
    "\n",
    "There is another way we could have written a method like `move`.  \n",
    "Instead of *mutating* the object (changing the values of its *fields* \n",
    "`x` and `y`), we could have created a new Point object at the \n",
    "modified coordinates:"
   ]
  },
  {
   "cell_type": "code",
   "execution_count": null,
   "id": "86179791",
   "metadata": {},
   "outputs": [],
   "source": [
    "class Point:\n",
    "    \"\"\"An (x,y) coordinate pair\"\"\"\n",
    "    def __init__(self, x: int, y: int):\n",
    "        self.x = x\n",
    "        self.y = y\n",
    "\n",
    "    def moved(self, dx: int, dy: int) -> \"Point\":\n",
    "        return Point(self.x + dx, self.y + dy)\n",
    "\n",
    "p1 = Point(3,5)\n",
    "p2 = p1\n",
    "p1 = p1.moved(4,4)\n",
    "print(p1.x, p1.y)\n",
    "print(p2.x, p2.y)"
   ]
  },
  {
   "cell_type": "markdown",
   "id": "aaa90efd",
   "metadata": {},
   "source": [
    "Notice that method `moved`, unlike method `move` in the prior example, \n",
    "return a new Point object that is distinct from the Point object that\n",
    "was aliased.  Initially `p1` and `p2` may be aliases, after `p2 = p1`: \n",
    "\n",
    "![Points aliased](img/pythontutor-point-unaliased-step1.png)\n",
    "\n",
    "But after `p1 = p1.moved(4,4)`, `p1` refers to a new, distinct object: \n",
    "\n",
    "![New distinct point](img/pythontutor-point-unaliased-step2.png)\n",
    "\n",
    "As we saw with the `list` example, aiasing applies to objects \n",
    "from the built-in Python classes as well as to objects \n",
    "from the classes that you will write.  It just hasn't been \n",
    "apparent until now, because many of the built-in classes \n",
    "are *immutable*:  They do not have any methods that \n",
    "change the values stored in an object.  For example, when \n",
    "we write `3 + 5`, we are actually calling `(3).__add__(5)`; \n",
    "The `__add__` method does not change the value of `3` (that \n",
    "would be confusing!) but instead returns a new object `8`. \n",
    "\n",
    "We will write both *immutable* classes and *mutable* classes.  \n",
    "It is typically easier to reason about the behavior of *immutable* \n",
    "classes (which is why so many of Python's basic classes are\n",
    "immutable).  On the other hand, it may be more efficient to *mutate* \n",
    "an object than to return a new object with a small change (which is \n",
    "why most of Python's built-in collection classes, like `list` and \n",
    "`dict`, are mutabble).  \n",
    "Aliasing of mutable objects is often a mistake, but not always. \n",
    "Later we will intentionally create aliases to access \n",
    "mutable objects.  The important thing is to be aware of it."
   ]
  }
 ],
 "metadata": {
  "jupytext": {
   "formats": "md:myst",
   "text_representation": {
    "extension": ".myst",
    "format_name": "myst",
    "format_version": 1.1,
    "jupytext_version": "1.10.3"
   }
  },
  "kernelspec": {
   "display_name": "Python 3",
   "language": "python",
   "name": "python3"
  },
  "language_info": {
   "codemirror_mode": {
    "name": "ipython",
    "version": 3
   },
   "file_extension": ".py",
   "mimetype": "text/x-python",
   "name": "python",
   "nbconvert_exporter": "python",
   "pygments_lexer": "ipython3",
   "version": "3.13.1"
  },
  "source_map": [
   13,
   64,
   69,
   89,
   104
  ]
 },
 "nbformat": 4,
 "nbformat_minor": 5
}
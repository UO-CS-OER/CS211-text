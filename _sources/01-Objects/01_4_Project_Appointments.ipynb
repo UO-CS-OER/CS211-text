{
 "cells": [
  {
   "cell_type": "markdown",
   "id": "1f3da3d7",
   "metadata": {},
   "source": [
    "# Project:  Overlapping Appointments\n",
    "\n",
    "[Agenda](https://github.com/UO-CIS211/Agenda) is our \n",
    "first project with user-written classes.  \n",
    "\n",
    "## Overview \n",
    "\n",
    "In this project you will \n",
    "\n",
    "- Create a class `Appt` (short for \"appointment\") that represents\n",
    "  a single appointment with a start time, an end time, and a\n",
    "  description.  For example, you might create an `Appt` object to\n",
    "  represent CS 210 lecture from 10am to 11:20am on January 7, 2025.\n",
    "  - The `Appt` class will make use of the \n",
    "    `datetime` class from the Python library, which you will import.\n",
    "  - Each `Appt` object will contain three _instance variables_, also \n",
    "    known as _fields_.  Two of these, \n",
    "    the start time (e.g., 10:00am on January 7, 2025) and end time \n",
    "    (e.g., 11:20am on January 7) will be represented by\n",
    "    `datetime` objects. The third instance variable will be a\n",
    "    description represented as a `str` object. \n",
    "  - You will write several methods for the `Appt` class.  These \n",
    "    include _magic methods_ for comparing `Appt` objects.  We will \n",
    "    interpret `<` as _before_, so that `app1 < app2` will mean\n",
    "    \"the end of app1 is no later than the beginning of app2\". \n",
    "  - You will write an `overlaps` method.  `app1.overlaps(app2)` will \n",
    "    mean that there is a non-zero overlap in the periods represented \n",
    "    by `app1` and `app2`. \n",
    "  - You will write an `intersect` method, which creates a new `Appt` \n",
    "    object representing the overlapping portion of two appointments. \n",
    "  - You will write additional methods for creating and \n",
    "    printing `Appt` objects. \n",
    "- Create a class `Agenda` representing a collection of `Appt` \n",
    "  objects. An `Agenda` object will be a _wrapper_ for a `list` \n",
    "  object.  It will have a single instance variable, a `list` of\n",
    "  `Appt` objects.  Many of its methods, like `append`, will be \n",
    "  delegated to corresponding methods of the `list` it wraps.  The \n",
    "  point of creating an `Agenda` class is to alter the behavior of \n",
    "  some methods (e.g., customizing the way a list of appointments is \n",
    "  printed) and add some new methods. \n",
    "  - You will write a `conflicts` method to detect _any_ overlap in \n",
    "    two `Agenda` objects.  The result of `ag1.conflicts(ag2)` will be \n",
    "    another  `Agenda` object, containing an `Appt` object for \n",
    "    overlap between any `Appt` object in `ag1` and some `Appt` object\n",
    "    in `ag2`.   \n",
    "\n",
    "Most of the _Agenda_ project is not complicated\n",
    "or difficult, but you can \n",
    "expect some frustration and time spent because you are using \n",
    "unfamiliar language features.  Be sure to correctly use\n",
    "the methods you have defined to simplify other parts of the program \n",
    "(the _DRY_ principle, _don't repeat yourself_).  For example, when \n",
    "you write the `overlaps` method of `Appt`, make use of the `<` magic \n",
    "method by noting that if `app1.overlaps(app2)`, then neither\n",
    "`app1 < app2` nor `app2 < app1`.  \n",
    "\n",
    "The only tricky bit in the project is making the `intersect` \n",
    "method efficient.  By sorting both `Agenda` objects `ag1` and `ag2`, \n",
    "you can avoid comparing _every_ `Appt` in `ag1` with _every_ `Appt` \n",
    "in `ag2`, which would take time proportional to the product of their \n",
    "lengths.  \n",
    "\n",
    "You will turn in one file, `appt.py`, containing both class `Appt` \n",
    "and class `Agenda`."
   ]
  }
 ],
 "metadata": {
  "jupytext": {
   "formats": "md:myst",
   "text_representation": {
    "extension": ".myst",
    "format_name": "myst",
    "format_version": 1.1,
    "jupytext_version": "1.10.3"
   }
  },
  "kernelspec": {
   "display_name": "Python 3",
   "language": "python",
   "name": "python3"
  },
  "language_info": {
   "codemirror_mode": {
    "name": "ipython",
    "version": 3
   },
   "file_extension": ".py",
   "mimetype": "text/x-python",
   "name": "python",
   "nbconvert_exporter": "python",
   "pygments_lexer": "ipython3",
   "version": "3.13.1"
  },
  "source_map": [
   13
  ]
 },
 "nbformat": 4,
 "nbformat_minor": 5
}